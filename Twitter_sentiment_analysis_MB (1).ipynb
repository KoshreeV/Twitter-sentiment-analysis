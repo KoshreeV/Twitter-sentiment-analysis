{
  "nbformat": 4,
  "nbformat_minor": 0,
  "metadata": {
    "colab": {
      "provenance": []
    },
    "kernelspec": {
      "name": "python3",
      "display_name": "Python 3"
    },
    "language_info": {
      "name": "python"
    }
  },
  "cells": [
    {
      "cell_type": "code",
      "execution_count": 1,
      "metadata": {
        "colab": {
          "base_uri": "https://localhost:8080/"
        },
        "id": "Z709pvJcjoac",
        "outputId": "62ec8be1-4c2c-4e7a-c642-8557908ddfde"
      },
      "outputs": [
        {
          "output_type": "stream",
          "name": "stderr",
          "text": [
            "[nltk_data] Downloading package punkt to /root/nltk_data...\n",
            "[nltk_data]   Unzipping tokenizers/punkt.zip.\n",
            "[nltk_data] Downloading package stopwords to /root/nltk_data...\n",
            "[nltk_data]   Unzipping corpora/stopwords.zip.\n"
          ]
        }
      ],
      "source": [
        "import nltk\n",
        "import re\n",
        "import pandas as pd\n",
        "import numpy as np\n",
        "from nltk.corpus import stopwords\n",
        "from nltk.stem.porter import PorterStemmer\n",
        "from nltk.stem import WordNetLemmatizer\n",
        "nltk.download(\"punkt\")\n",
        "from sklearn.model_selection import train_test_split\n",
        "from sklearn.feature_extraction.text import TfidfVectorizer\n",
        "from sklearn.svm import SVC\n",
        "from sklearn.metrics import classification_report, accuracy_score\n",
        "from sklearn.preprocessing import LabelEncoder\n",
        "from sklearn.feature_extraction.text import CountVectorizer\n",
        "from nltk.corpus import stopwords\n",
        "nltk.download(\"stopwords\")\n",
        "from nltk.tokenize import word_tokenize\n",
        "from sklearn.model_selection import train_test_split\n",
        "from sklearn.naive_bayes import MultinomialNB\n",
        "import matplotlib.pyplot as plt"
      ]
    },
    {
      "cell_type": "markdown",
      "source": [
        "Create data frame from the CSV file"
      ],
      "metadata": {
        "id": "Hi9MYXcbmDfM"
      }
    },
    {
      "cell_type": "code",
      "source": [
        "df = pd.read_csv(\"training.csv\", encoding='iso-8859-1')"
      ],
      "metadata": {
        "id": "tCvO2VMVkp55"
      },
      "execution_count": 3,
      "outputs": []
    },
    {
      "cell_type": "code",
      "source": [
        "df"
      ],
      "metadata": {
        "colab": {
          "base_uri": "https://localhost:8080/",
          "height": 1000
        },
        "id": "kjETowBItMx1",
        "outputId": "6247c8b7-f6d4-470c-b77b-70dcb9f3e5f0"
      },
      "execution_count": 4,
      "outputs": [
        {
          "output_type": "execute_result",
          "data": {
            "text/plain": [
              "        polarity of tweet  id of the tweet             date of the tweet  \\\n",
              "0                       0       1467810672  Mon Apr 06 22:19:49 PDT 2009   \n",
              "1                       0       1467810917  Mon Apr 06 22:19:53 PDT 2009   \n",
              "2                       0       1467811184  Mon Apr 06 22:19:57 PDT 2009   \n",
              "3                       0       1467811193  Mon Apr 06 22:19:57 PDT 2009   \n",
              "4                       0       1467811372  Mon Apr 06 22:20:00 PDT 2009   \n",
              "...                   ...              ...                           ...   \n",
              "158794                  0       1956685485  Thu May 28 22:26:21 PDT 2009   \n",
              "158795                  0       1956685634  Thu May 28 22:26:22 PDT 2009   \n",
              "158796                  0       1956685635  Thu May 28 22:26:22 PDT 2009   \n",
              "158797                  0       1956685924  Thu May 28 22:26:24 PDT 2009   \n",
              "158798                  0       1956686009                             T   \n",
              "\n",
              "           query             user  \\\n",
              "0       NO_QUERY    scotthamilton   \n",
              "1       NO_QUERY         mattycus   \n",
              "2       NO_QUERY          ElleCTF   \n",
              "3       NO_QUERY           Karoli   \n",
              "4       NO_QUERY         joy_wolf   \n",
              "...          ...              ...   \n",
              "158794  NO_QUERY  Unknown_Heather   \n",
              "158795  NO_QUERY        jesuisfei   \n",
              "158796  NO_QUERY       katiezilla   \n",
              "158797  NO_QUERY         jennrutt   \n",
              "158798       NaN              NaN   \n",
              "\n",
              "                                        text_of_the_tweet  \n",
              "0       is upset that he can't update his Facebook by ...  \n",
              "1       @Kenichan I dived many times for the ball. Man...  \n",
              "2         my whole body feels itchy and like its on fire   \n",
              "3       @nationwideclass no, it's not behaving at all....  \n",
              "4                           @Kwesidei not the whole crew   \n",
              "...                                                   ...  \n",
              "158794  @mandyxclear Was funny, he ODd and died years ...  \n",
              "158795  @NotARichGirl The shampoo I used was the sooth...  \n",
              "158796  My ear hurts  I hope it doesn't get infected o...  \n",
              "158797  Trying to catch up on work I've been putting o...  \n",
              "158798                                                NaN  \n",
              "\n",
              "[158799 rows x 6 columns]"
            ],
            "text/html": [
              "\n",
              "  <div id=\"df-c83eda84-1117-4bd2-8be8-9c3b7db5db6d\" class=\"colab-df-container\">\n",
              "    <div>\n",
              "<style scoped>\n",
              "    .dataframe tbody tr th:only-of-type {\n",
              "        vertical-align: middle;\n",
              "    }\n",
              "\n",
              "    .dataframe tbody tr th {\n",
              "        vertical-align: top;\n",
              "    }\n",
              "\n",
              "    .dataframe thead th {\n",
              "        text-align: right;\n",
              "    }\n",
              "</style>\n",
              "<table border=\"1\" class=\"dataframe\">\n",
              "  <thead>\n",
              "    <tr style=\"text-align: right;\">\n",
              "      <th></th>\n",
              "      <th>polarity of tweet</th>\n",
              "      <th>id of the tweet</th>\n",
              "      <th>date of the tweet</th>\n",
              "      <th>query</th>\n",
              "      <th>user</th>\n",
              "      <th>text_of_the_tweet</th>\n",
              "    </tr>\n",
              "  </thead>\n",
              "  <tbody>\n",
              "    <tr>\n",
              "      <th>0</th>\n",
              "      <td>0</td>\n",
              "      <td>1467810672</td>\n",
              "      <td>Mon Apr 06 22:19:49 PDT 2009</td>\n",
              "      <td>NO_QUERY</td>\n",
              "      <td>scotthamilton</td>\n",
              "      <td>is upset that he can't update his Facebook by ...</td>\n",
              "    </tr>\n",
              "    <tr>\n",
              "      <th>1</th>\n",
              "      <td>0</td>\n",
              "      <td>1467810917</td>\n",
              "      <td>Mon Apr 06 22:19:53 PDT 2009</td>\n",
              "      <td>NO_QUERY</td>\n",
              "      <td>mattycus</td>\n",
              "      <td>@Kenichan I dived many times for the ball. Man...</td>\n",
              "    </tr>\n",
              "    <tr>\n",
              "      <th>2</th>\n",
              "      <td>0</td>\n",
              "      <td>1467811184</td>\n",
              "      <td>Mon Apr 06 22:19:57 PDT 2009</td>\n",
              "      <td>NO_QUERY</td>\n",
              "      <td>ElleCTF</td>\n",
              "      <td>my whole body feels itchy and like its on fire</td>\n",
              "    </tr>\n",
              "    <tr>\n",
              "      <th>3</th>\n",
              "      <td>0</td>\n",
              "      <td>1467811193</td>\n",
              "      <td>Mon Apr 06 22:19:57 PDT 2009</td>\n",
              "      <td>NO_QUERY</td>\n",
              "      <td>Karoli</td>\n",
              "      <td>@nationwideclass no, it's not behaving at all....</td>\n",
              "    </tr>\n",
              "    <tr>\n",
              "      <th>4</th>\n",
              "      <td>0</td>\n",
              "      <td>1467811372</td>\n",
              "      <td>Mon Apr 06 22:20:00 PDT 2009</td>\n",
              "      <td>NO_QUERY</td>\n",
              "      <td>joy_wolf</td>\n",
              "      <td>@Kwesidei not the whole crew</td>\n",
              "    </tr>\n",
              "    <tr>\n",
              "      <th>...</th>\n",
              "      <td>...</td>\n",
              "      <td>...</td>\n",
              "      <td>...</td>\n",
              "      <td>...</td>\n",
              "      <td>...</td>\n",
              "      <td>...</td>\n",
              "    </tr>\n",
              "    <tr>\n",
              "      <th>158794</th>\n",
              "      <td>0</td>\n",
              "      <td>1956685485</td>\n",
              "      <td>Thu May 28 22:26:21 PDT 2009</td>\n",
              "      <td>NO_QUERY</td>\n",
              "      <td>Unknown_Heather</td>\n",
              "      <td>@mandyxclear Was funny, he ODd and died years ...</td>\n",
              "    </tr>\n",
              "    <tr>\n",
              "      <th>158795</th>\n",
              "      <td>0</td>\n",
              "      <td>1956685634</td>\n",
              "      <td>Thu May 28 22:26:22 PDT 2009</td>\n",
              "      <td>NO_QUERY</td>\n",
              "      <td>jesuisfei</td>\n",
              "      <td>@NotARichGirl The shampoo I used was the sooth...</td>\n",
              "    </tr>\n",
              "    <tr>\n",
              "      <th>158796</th>\n",
              "      <td>0</td>\n",
              "      <td>1956685635</td>\n",
              "      <td>Thu May 28 22:26:22 PDT 2009</td>\n",
              "      <td>NO_QUERY</td>\n",
              "      <td>katiezilla</td>\n",
              "      <td>My ear hurts  I hope it doesn't get infected o...</td>\n",
              "    </tr>\n",
              "    <tr>\n",
              "      <th>158797</th>\n",
              "      <td>0</td>\n",
              "      <td>1956685924</td>\n",
              "      <td>Thu May 28 22:26:24 PDT 2009</td>\n",
              "      <td>NO_QUERY</td>\n",
              "      <td>jennrutt</td>\n",
              "      <td>Trying to catch up on work I've been putting o...</td>\n",
              "    </tr>\n",
              "    <tr>\n",
              "      <th>158798</th>\n",
              "      <td>0</td>\n",
              "      <td>1956686009</td>\n",
              "      <td>T</td>\n",
              "      <td>NaN</td>\n",
              "      <td>NaN</td>\n",
              "      <td>NaN</td>\n",
              "    </tr>\n",
              "  </tbody>\n",
              "</table>\n",
              "<p>158799 rows × 6 columns</p>\n",
              "</div>\n",
              "    <div class=\"colab-df-buttons\">\n",
              "\n",
              "  <div class=\"colab-df-container\">\n",
              "    <button class=\"colab-df-convert\" onclick=\"convertToInteractive('df-c83eda84-1117-4bd2-8be8-9c3b7db5db6d')\"\n",
              "            title=\"Convert this dataframe to an interactive table.\"\n",
              "            style=\"display:none;\">\n",
              "\n",
              "  <svg xmlns=\"http://www.w3.org/2000/svg\" height=\"24px\" viewBox=\"0 -960 960 960\">\n",
              "    <path d=\"M120-120v-720h720v720H120Zm60-500h600v-160H180v160Zm220 220h160v-160H400v160Zm0 220h160v-160H400v160ZM180-400h160v-160H180v160Zm440 0h160v-160H620v160ZM180-180h160v-160H180v160Zm440 0h160v-160H620v160Z\"/>\n",
              "  </svg>\n",
              "    </button>\n",
              "\n",
              "  <style>\n",
              "    .colab-df-container {\n",
              "      display:flex;\n",
              "      gap: 12px;\n",
              "    }\n",
              "\n",
              "    .colab-df-convert {\n",
              "      background-color: #E8F0FE;\n",
              "      border: none;\n",
              "      border-radius: 50%;\n",
              "      cursor: pointer;\n",
              "      display: none;\n",
              "      fill: #1967D2;\n",
              "      height: 32px;\n",
              "      padding: 0 0 0 0;\n",
              "      width: 32px;\n",
              "    }\n",
              "\n",
              "    .colab-df-convert:hover {\n",
              "      background-color: #E2EBFA;\n",
              "      box-shadow: 0px 1px 2px rgba(60, 64, 67, 0.3), 0px 1px 3px 1px rgba(60, 64, 67, 0.15);\n",
              "      fill: #174EA6;\n",
              "    }\n",
              "\n",
              "    .colab-df-buttons div {\n",
              "      margin-bottom: 4px;\n",
              "    }\n",
              "\n",
              "    [theme=dark] .colab-df-convert {\n",
              "      background-color: #3B4455;\n",
              "      fill: #D2E3FC;\n",
              "    }\n",
              "\n",
              "    [theme=dark] .colab-df-convert:hover {\n",
              "      background-color: #434B5C;\n",
              "      box-shadow: 0px 1px 3px 1px rgba(0, 0, 0, 0.15);\n",
              "      filter: drop-shadow(0px 1px 2px rgba(0, 0, 0, 0.3));\n",
              "      fill: #FFFFFF;\n",
              "    }\n",
              "  </style>\n",
              "\n",
              "    <script>\n",
              "      const buttonEl =\n",
              "        document.querySelector('#df-c83eda84-1117-4bd2-8be8-9c3b7db5db6d button.colab-df-convert');\n",
              "      buttonEl.style.display =\n",
              "        google.colab.kernel.accessAllowed ? 'block' : 'none';\n",
              "\n",
              "      async function convertToInteractive(key) {\n",
              "        const element = document.querySelector('#df-c83eda84-1117-4bd2-8be8-9c3b7db5db6d');\n",
              "        const dataTable =\n",
              "          await google.colab.kernel.invokeFunction('convertToInteractive',\n",
              "                                                    [key], {});\n",
              "        if (!dataTable) return;\n",
              "\n",
              "        const docLinkHtml = 'Like what you see? Visit the ' +\n",
              "          '<a target=\"_blank\" href=https://colab.research.google.com/notebooks/data_table.ipynb>data table notebook</a>'\n",
              "          + ' to learn more about interactive tables.';\n",
              "        element.innerHTML = '';\n",
              "        dataTable['output_type'] = 'display_data';\n",
              "        await google.colab.output.renderOutput(dataTable, element);\n",
              "        const docLink = document.createElement('div');\n",
              "        docLink.innerHTML = docLinkHtml;\n",
              "        element.appendChild(docLink);\n",
              "      }\n",
              "    </script>\n",
              "  </div>\n",
              "\n",
              "\n",
              "<div id=\"df-d1f2b460-3d5c-4549-95d2-4f9bdba71c31\">\n",
              "  <button class=\"colab-df-quickchart\" onclick=\"quickchart('df-d1f2b460-3d5c-4549-95d2-4f9bdba71c31')\"\n",
              "            title=\"Suggest charts\"\n",
              "            style=\"display:none;\">\n",
              "\n",
              "<svg xmlns=\"http://www.w3.org/2000/svg\" height=\"24px\"viewBox=\"0 0 24 24\"\n",
              "     width=\"24px\">\n",
              "    <g>\n",
              "        <path d=\"M19 3H5c-1.1 0-2 .9-2 2v14c0 1.1.9 2 2 2h14c1.1 0 2-.9 2-2V5c0-1.1-.9-2-2-2zM9 17H7v-7h2v7zm4 0h-2V7h2v10zm4 0h-2v-4h2v4z\"/>\n",
              "    </g>\n",
              "</svg>\n",
              "  </button>\n",
              "\n",
              "<style>\n",
              "  .colab-df-quickchart {\n",
              "      --bg-color: #E8F0FE;\n",
              "      --fill-color: #1967D2;\n",
              "      --hover-bg-color: #E2EBFA;\n",
              "      --hover-fill-color: #174EA6;\n",
              "      --disabled-fill-color: #AAA;\n",
              "      --disabled-bg-color: #DDD;\n",
              "  }\n",
              "\n",
              "  [theme=dark] .colab-df-quickchart {\n",
              "      --bg-color: #3B4455;\n",
              "      --fill-color: #D2E3FC;\n",
              "      --hover-bg-color: #434B5C;\n",
              "      --hover-fill-color: #FFFFFF;\n",
              "      --disabled-bg-color: #3B4455;\n",
              "      --disabled-fill-color: #666;\n",
              "  }\n",
              "\n",
              "  .colab-df-quickchart {\n",
              "    background-color: var(--bg-color);\n",
              "    border: none;\n",
              "    border-radius: 50%;\n",
              "    cursor: pointer;\n",
              "    display: none;\n",
              "    fill: var(--fill-color);\n",
              "    height: 32px;\n",
              "    padding: 0;\n",
              "    width: 32px;\n",
              "  }\n",
              "\n",
              "  .colab-df-quickchart:hover {\n",
              "    background-color: var(--hover-bg-color);\n",
              "    box-shadow: 0 1px 2px rgba(60, 64, 67, 0.3), 0 1px 3px 1px rgba(60, 64, 67, 0.15);\n",
              "    fill: var(--button-hover-fill-color);\n",
              "  }\n",
              "\n",
              "  .colab-df-quickchart-complete:disabled,\n",
              "  .colab-df-quickchart-complete:disabled:hover {\n",
              "    background-color: var(--disabled-bg-color);\n",
              "    fill: var(--disabled-fill-color);\n",
              "    box-shadow: none;\n",
              "  }\n",
              "\n",
              "  .colab-df-spinner {\n",
              "    border: 2px solid var(--fill-color);\n",
              "    border-color: transparent;\n",
              "    border-bottom-color: var(--fill-color);\n",
              "    animation:\n",
              "      spin 1s steps(1) infinite;\n",
              "  }\n",
              "\n",
              "  @keyframes spin {\n",
              "    0% {\n",
              "      border-color: transparent;\n",
              "      border-bottom-color: var(--fill-color);\n",
              "      border-left-color: var(--fill-color);\n",
              "    }\n",
              "    20% {\n",
              "      border-color: transparent;\n",
              "      border-left-color: var(--fill-color);\n",
              "      border-top-color: var(--fill-color);\n",
              "    }\n",
              "    30% {\n",
              "      border-color: transparent;\n",
              "      border-left-color: var(--fill-color);\n",
              "      border-top-color: var(--fill-color);\n",
              "      border-right-color: var(--fill-color);\n",
              "    }\n",
              "    40% {\n",
              "      border-color: transparent;\n",
              "      border-right-color: var(--fill-color);\n",
              "      border-top-color: var(--fill-color);\n",
              "    }\n",
              "    60% {\n",
              "      border-color: transparent;\n",
              "      border-right-color: var(--fill-color);\n",
              "    }\n",
              "    80% {\n",
              "      border-color: transparent;\n",
              "      border-right-color: var(--fill-color);\n",
              "      border-bottom-color: var(--fill-color);\n",
              "    }\n",
              "    90% {\n",
              "      border-color: transparent;\n",
              "      border-bottom-color: var(--fill-color);\n",
              "    }\n",
              "  }\n",
              "</style>\n",
              "\n",
              "  <script>\n",
              "    async function quickchart(key) {\n",
              "      const quickchartButtonEl =\n",
              "        document.querySelector('#' + key + ' button');\n",
              "      quickchartButtonEl.disabled = true;  // To prevent multiple clicks.\n",
              "      quickchartButtonEl.classList.add('colab-df-spinner');\n",
              "      try {\n",
              "        const charts = await google.colab.kernel.invokeFunction(\n",
              "            'suggestCharts', [key], {});\n",
              "      } catch (error) {\n",
              "        console.error('Error during call to suggestCharts:', error);\n",
              "      }\n",
              "      quickchartButtonEl.classList.remove('colab-df-spinner');\n",
              "      quickchartButtonEl.classList.add('colab-df-quickchart-complete');\n",
              "    }\n",
              "    (() => {\n",
              "      let quickchartButtonEl =\n",
              "        document.querySelector('#df-d1f2b460-3d5c-4549-95d2-4f9bdba71c31 button');\n",
              "      quickchartButtonEl.style.display =\n",
              "        google.colab.kernel.accessAllowed ? 'block' : 'none';\n",
              "    })();\n",
              "  </script>\n",
              "</div>\n",
              "\n",
              "  <div id=\"id_dfedbfff-2ea9-49ce-ab3d-aec6d1131e85\">\n",
              "    <style>\n",
              "      .colab-df-generate {\n",
              "        background-color: #E8F0FE;\n",
              "        border: none;\n",
              "        border-radius: 50%;\n",
              "        cursor: pointer;\n",
              "        display: none;\n",
              "        fill: #1967D2;\n",
              "        height: 32px;\n",
              "        padding: 0 0 0 0;\n",
              "        width: 32px;\n",
              "      }\n",
              "\n",
              "      .colab-df-generate:hover {\n",
              "        background-color: #E2EBFA;\n",
              "        box-shadow: 0px 1px 2px rgba(60, 64, 67, 0.3), 0px 1px 3px 1px rgba(60, 64, 67, 0.15);\n",
              "        fill: #174EA6;\n",
              "      }\n",
              "\n",
              "      [theme=dark] .colab-df-generate {\n",
              "        background-color: #3B4455;\n",
              "        fill: #D2E3FC;\n",
              "      }\n",
              "\n",
              "      [theme=dark] .colab-df-generate:hover {\n",
              "        background-color: #434B5C;\n",
              "        box-shadow: 0px 1px 3px 1px rgba(0, 0, 0, 0.15);\n",
              "        filter: drop-shadow(0px 1px 2px rgba(0, 0, 0, 0.3));\n",
              "        fill: #FFFFFF;\n",
              "      }\n",
              "    </style>\n",
              "    <button class=\"colab-df-generate\" onclick=\"generateWithVariable('df')\"\n",
              "            title=\"Generate code using this dataframe.\"\n",
              "            style=\"display:none;\">\n",
              "\n",
              "  <svg xmlns=\"http://www.w3.org/2000/svg\" height=\"24px\"viewBox=\"0 0 24 24\"\n",
              "       width=\"24px\">\n",
              "    <path d=\"M7,19H8.4L18.45,9,17,7.55,7,17.6ZM5,21V16.75L18.45,3.32a2,2,0,0,1,2.83,0l1.4,1.43a1.91,1.91,0,0,1,.58,1.4,1.91,1.91,0,0,1-.58,1.4L9.25,21ZM18.45,9,17,7.55Zm-12,3A5.31,5.31,0,0,0,4.9,8.1,5.31,5.31,0,0,0,1,6.5,5.31,5.31,0,0,0,4.9,4.9,5.31,5.31,0,0,0,6.5,1,5.31,5.31,0,0,0,8.1,4.9,5.31,5.31,0,0,0,12,6.5,5.46,5.46,0,0,0,6.5,12Z\"/>\n",
              "  </svg>\n",
              "    </button>\n",
              "    <script>\n",
              "      (() => {\n",
              "      const buttonEl =\n",
              "        document.querySelector('#id_dfedbfff-2ea9-49ce-ab3d-aec6d1131e85 button.colab-df-generate');\n",
              "      buttonEl.style.display =\n",
              "        google.colab.kernel.accessAllowed ? 'block' : 'none';\n",
              "\n",
              "      buttonEl.onclick = () => {\n",
              "        google.colab.notebook.generateWithVariable('df');\n",
              "      }\n",
              "      })();\n",
              "    </script>\n",
              "  </div>\n",
              "\n",
              "    </div>\n",
              "  </div>\n"
            ],
            "application/vnd.google.colaboratory.intrinsic+json": {
              "type": "dataframe",
              "variable_name": "df"
            }
          },
          "metadata": {},
          "execution_count": 4
        }
      ]
    },
    {
      "cell_type": "code",
      "source": [
        "df.columns"
      ],
      "metadata": {
        "id": "Q0we2Ug6Mh0b",
        "colab": {
          "base_uri": "https://localhost:8080/"
        },
        "outputId": "63f50b69-fb9c-451b-a858-53fe7bf4c44d"
      },
      "execution_count": null,
      "outputs": [
        {
          "output_type": "execute_result",
          "data": {
            "text/plain": [
              "Index(['polarity of tweet', 'id of the tweet', 'date of the tweet', 'query',\n",
              "       'user', 'text_of_the_tweet'],\n",
              "      dtype='object')"
            ]
          },
          "metadata": {},
          "execution_count": 45
        }
      ]
    },
    {
      "cell_type": "markdown",
      "source": [
        "Dropping the Columns - ID, Date, Query and User:"
      ],
      "metadata": {
        "id": "vTSY4aQVl3Is"
      }
    },
    {
      "cell_type": "code",
      "source": [
        "# df = df.drop(['id', 'date', 'query', 'user'], axis=1)"
      ],
      "metadata": {
        "id": "fSxH984olmP_"
      },
      "execution_count": null,
      "outputs": []
    },
    {
      "cell_type": "markdown",
      "source": [
        "Initialize the PorterStemmer and WordNetLemmatizer"
      ],
      "metadata": {
        "id": "fjM4iUh0m8J6"
      }
    },
    {
      "cell_type": "code",
      "source": [
        "ps = PorterStemmer()\n",
        "wordnet = WordNetLemmatizer()"
      ],
      "metadata": {
        "id": "fEQ7vgRjm0Bi"
      },
      "execution_count": 5,
      "outputs": []
    },
    {
      "cell_type": "markdown",
      "source": [
        "Tokenize the Tweets"
      ],
      "metadata": {
        "id": "Vhx8hhU-nYm9"
      }
    },
    {
      "cell_type": "code",
      "source": [
        "corpus = []\n",
        "df['text_of_the_tweet'] = df['text_of_the_tweet'].astype(str)\n",
        "for ind in df.index:\n",
        "        r = re.sub('[^a-zA-Z]','',df['text_of_the_tweet'][ind])\n",
        "        r = r.lower()\n",
        "        r = r.split()\n",
        "        r = [ps.stem(word) for word in r if word not in set(stopwords.words('english'))]\n",
        "        r = \" \".join(r)\n",
        "        corpus.append(r)"
      ],
      "metadata": {
        "id": "yI1ir4EPriOL"
      },
      "execution_count": 6,
      "outputs": []
    },
    {
      "cell_type": "code",
      "source": [
        "corpus"
      ],
      "metadata": {
        "colab": {
          "base_uri": "https://localhost:8080/"
        },
        "id": "voBRb6XLZDZL",
        "outputId": "9f17551f-9cea-42c7-b2de-8bf43b74290e"
      },
      "execution_count": 7,
      "outputs": [
        {
          "output_type": "execute_result",
          "data": {
            "text/plain": [
              "['isupsetthathecantupdatehisfacebookbytextingitandmightcryasaresultschooltodayalsoblah',\n",
              " 'kenichanidivedmanytimesfortheballmanagedtosavetherestgooutofbound',\n",
              " 'mywholebodyfeelsitchyandlikeitsonfir',\n",
              " 'nationwideclassnoitsnotbehavingatallimmadwhyamiherebecauseicantseeyoualloverther',\n",
              " 'kwesideinotthewholecrew',\n",
              " 'needahug',\n",
              " 'loltrishheylongtimenoseeyesrainsabitonlyabitlolimfinethankshowsy',\n",
              " 'ijustrepiercedmyear',\n",
              " 'caregivingicouldntbeartowatchitandithoughttheualosswasembarrass',\n",
              " 'octolinzititcountsidkwhyidideitheryounevertalktomeanymor',\n",
              " 'smarrisoniwouldvebeenthefirstbutididnthaveagunnotreallythoughzacsnydersjustadoucheclown',\n",
              " 'iamjazzyfizzleiwishigottowatchitwithyouimissyouandiamlilnickihowwasthepremier',\n",
              " 'hollisdeathscenewillhurtmeseverelytowatchonfilmwryisdirectorscutnotoutnow',\n",
              " 'abouttofiletax',\n",
              " 'lettyaahhivealwayswantedtoseerentlovethesoundtrack',\n",
              " 'fakerpattypattzohdearwereyoudrinkingoutoftheforgottentabledrink',\n",
              " 'alydesignsiwasoutmostofthedaysodidntgetmuchdon',\n",
              " 'oneofmyfriendcalledmeandaskedtomeetwithheratmidvalleytodaybutivenotimesigh',\n",
              " 'angrybaristaibakedyouacakebutiatedit',\n",
              " 'thisweekisnotgoingasihadhop',\n",
              " 'blaghclassattomorrow',\n",
              " 'ihatewhenihavetocallandwakepeopleup',\n",
              " 'justgoingtocrymyselftosleepafterwatchingmarleyandm',\n",
              " 'imsadnowmisslilli',\n",
              " 'oooohlolthatleslieandokiwontdoitagainsolesliewontgetmadagain',\n",
              " 'mehalmostloveristheexceptionthistrackgetsmedepressedeverytim',\n",
              " 'somehackedmyaccountonaimnowihavetomakeanewon',\n",
              " 'alielayusiwanttogotopromotegearandgroovebutunfornatelynoridethereimaybgoingtotheoneinanaheiminmaythough',\n",
              " 'thoughtsleepinginwasanoptiontomorrowbutrealizingthatitnowisnotevaluationsinthemorningandworkintheafternoon',\n",
              " 'julieebabyaweiloveyoutooamhereimissy',\n",
              " 'humpninjaicrymyasianeyestosleepatnight',\n",
              " 'okimsickandspentanhoursittingintheshowercauseiwastoosicktostandandheldbackthepukelikeachampbednow',\n",
              " 'cocomixilltellyathestorylaternotagooddayandillbeworkinforlikethreemorehour',\n",
              " 'missxusorrybedtimecameheregmthttpisgdfng',\n",
              " 'fleurylisidonteitheritsdepressingidontthinkievenwanttoknowaboutthekidsinsuitcas',\n",
              " 'bedclassworkgymorthenclassanotherdaythatsgonnaflybyimissmygirlfriend',\n",
              " 'reallydontfeellikegettinguptodaybutgottostudytofortomorrowspracticalexam',\n",
              " 'hesthereasonfortheteardropsonmyguitartheonlyonewhohasenoughofmetobreakmyheart',\n",
              " 'sadsadsadidontknowwhybutihatethisfeelingiwannasleepandistillc',\n",
              " 'jonathanrknightawwwisoowishiwastheretoseeyoufinallycomfortableimsadthatimissedit',\n",
              " 'fallingasleepjustheardaboutthattracygirlsbodybeingfoundhowsadmyheartbreaksforthatfamili',\n",
              " 'viennahyayimhappyforyouwithyourjobbutthatalsomeanslesstimeformeandy',\n",
              " 'justcheckedmyusertimelineonmyblackberryitlookslikethetwankingisstillhappeningarepplstillhavingprobswbgsanduid',\n",
              " 'ohmanwasironingjeancjumbesfavetoptoweartoameetingburntit',\n",
              " 'isstrangelysadaboutliloandsamrobreakingup',\n",
              " 'teaohimsosorryididntthinkaboutthatbeforeretweet',\n",
              " 'broadbandplanamassivebrokenpromisehttptinyurlcomdcucviawwwdiigocomtautaostillwaitingforbroadbandwear',\n",
              " 'localtweepswowtonsofrepliesfromyoumayhavetounfollowsoicanseemyfriendstweetsyourescrollingthefeedalot',\n",
              " 'ourduckandchickenaretakingwayyytoolongtohatch',\n",
              " 'putvacationphotosonlineafewyrsagopccrashedandnowiforgetthenameofthesit',\n",
              " 'ineedahug',\n",
              " 'andywananotsurewhattheyareonlythattheyareposasmuchasiwanttoidontthinkcantradeawaycompanyassetssorryandi',\n",
              " 'oanhloveihatewhenthathappen',\n",
              " 'ihaveasadfeelingthatdallasisnotgoingtoshowupigottasaythoughyoudthinkmoreshowswouldusemusicfromthegamemmm',\n",
              " 'ughdegreestomorrow',\n",
              " 'wheredidumovetoithoughtuwerealreadyinsdhmmmrandomufoundmegladtohearyerdoingwel',\n",
              " 'batmanyngimissmypsitsoutofcommissionwutchaplayinghaveyoucoppedbloodonthesand',\n",
              " 'justleavingtheparkinglotofwork',\n",
              " 'thelifeiscoolbutnotform',\n",
              " 'sadlythoughivenevergottentoexperiencethepostcoituscigarettebeforeandnowineverwil',\n",
              " 'ihadsuchanicedaytoobadtheraincomesintomorrowatam',\n",
              " 'starrbbytoobadiwontbearoundilostmyjobandcantevenpaymyphonebilllmaoawshuck',\n",
              " 'dammbacktoschooltomorrow',\n",
              " 'mojobsnomoneyhowinthehellisminwageherefnclamsanhour',\n",
              " 'katortiznotforeverseeyousoon',\n",
              " 'ltalgonquinagreedisawthefailwhalealllllldaytoday',\n",
              " 'jdarterohhahadudeidontreallylookatemunlesssomeonesaysheyiaddedyousorryimsoterribleatthatineedapopup',\n",
              " 'ninjenimsureyourerightineedtostartworkingoutwithyouandtheniksterorjaredatleast',\n",
              " 'ireallyhatehowpeopledissmybandstraceisclearlynotugli',\n",
              " 'gymattiretodaywaspumasingletadidasshortsandblackbusinesssocksandleathershoesluckydidnotrunintoanycutegirl',\n",
              " 'whywontyoushowmylocationhttptwitpiccomy',\n",
              " 'nopicnicmyphonesmellslikecitru',\n",
              " 'ashleyacmydonkeyissensitiveaboutsuchcommentsneverthelesshedandmedbegladtoseeyourmugasapchargerisstillawol',\n",
              " 'nonewcsitonightfml',\n",
              " 'ithinkmyarmsaresorefromtenni',\n",
              " 'wonderswhysomeonethatulikesomuchcanmakeyousounhappyinasplitsecconddepress',\n",
              " 'sleepsoonijusthatesayingbyeandseeyoutomorrowforthenight',\n",
              " 'statravelaujustgoturnewsletterthosefaresreallyareunbelievableshameialreadybookedandpaidformin',\n",
              " 'missintheboo',\n",
              " 'markhardymetooitm',\n",
              " 'damnidonthaveanychalkmychalkboardisuseless',\n",
              " 'hadablastatthegettyvillabuthatesthatsheshadasorethroatalldayitsjustgettingworsetoo',\n",
              " 'msdramaheymissedyaatthemeetingsupmama',\n",
              " 'mytummyhurtsiwonderifthehypnosishasanythingtodowithitifsoitsworkingigetitstopsmok',\n",
              " 'whyisitalwaysthefaton',\n",
              " 'januarycrimsonsorrybabemyfamannoysmetoothankfullytheyreasleeprightnowmuahahaevillaugh',\n",
              " 'hollywoodheatishouldhavepaidmoreattentionwhenwecoveredphotoshopinmywebpagedesignclassinundergrad',\n",
              " 'wednesdaymybdaydontknowwhatdo',\n",
              " 'poorcameronthehil',\n",
              " 'prayformepleasetheexisthreateningtostartshatmyourbabiesstbirthdaypartywhatajerkandistillhaveaheadach',\n",
              " 'makeherfamoushmmdoureallyenjoybeingwithhimiftheproblemsaretooconstantsushouldthinkthingsmorefindsomeoneulik',\n",
              " 'striderisasicklittlepuppyhttpappsfacebookcomdogbookprofileview',\n",
              " 'soryleegracewanagostevespartyornotsadlysinceitseasteriwntbabledomuchbutohhwel',\n",
              " 'heyiactuallywononeofmybracketpoolstoobaditwasnttheoneformoney',\n",
              " 'starkyoudontfollowmeeitherandiworkfory',\n",
              " 'abadniteforthefavoriteteamsastrosandspartanslosetheniteoutwithtwwasgood',\n",
              " 'bodyofmissingnortherncalifgirlfoundpolicehavefoundtheremainsofamissingnortherncaliforniagirlhttptrimimji',\n",
              " 'mangaaaihopetheywillincreasethecapacityfastyesterdaywassuchapaingotthefailwhaletimesinhour',\n",
              " 'behindonmyclassesforwork',\n",
              " 'watchingquothousequot',\n",
              " 'kpreyesremembermybumlegstrikesbackthistimeitsseri',\n",
              " 'paradisejcooliwilltheirareallkindsofcomplaintsaboutthislaptoponlineaboutoverheatingbutnorecal',\n",
              " 'emilywillbegladwhenmommyisdonetrainingathernewjobshemissesherhttpappsfacebookcomdogbookprofileview',\n",
              " 'wouldratherthefirstpartysendbadmessagesthantherdpartysendmixedonessophmoreyearalloveragain',\n",
              " 'henkuyinepuitsoverr',\n",
              " 'marykatherineqiknowihearditthisafternoonandwonderedthesamethingmoscowissobehindthetim',\n",
              " 'layinginbedwithnovoic',\n",
              " 'imsooosadtheykilledoffkutneronhousewhyyyyyyyy',\n",
              " 'jacobsummerssorrytellthemmeaculpafrommeandthatireallyamsorri',\n",
              " 'allianaitdidntmakeanysensetomethesuicidethingirefusetobelievethatthatisactuallywhathappen',\n",
              " 'salancasterhopeyourok',\n",
              " 'mercedesashleydamnthegrindisinspirationalandsaddeningatthesametimedontwantyoutostopcuzilikewhatudomuchlov',\n",
              " 'hibanickyeahawbutiknowiwudntstandach',\n",
              " 'ughcantsleepitsam',\n",
              " 'hangingincroonerswannasingcantsuck',\n",
              " 'errescaawimissyaalltooimleavingtobhtomorrowquotmorningquotithinkawwiwannagotothebeachwugirl',\n",
              " 'ispissedoffthattheresnoasbasforaradiost',\n",
              " 'wednesdaymybdayndontknowwhatdo',\n",
              " 'iknowmylifehasbeenflippedupsidedownwhenijustthoughtinmyheadthatsomeramensoundsgood',\n",
              " 'iaminpainmybackandsideshurtnottomentioncryingismadeoffail',\n",
              " 'latenightsnackglassofojbcimquotdownwiththesicknessquotthenbacktosleepughihategettingsick',\n",
              " 'allyhemanbutbutbutimnotabigfanoncamillabel',\n",
              " 'grumwahicantseeclipmustbeelstupidoworkfilterscantwaittilligetaputersomethingelseblameexhebrokemin',\n",
              " 'thisweekjustseemstogetlongerandlongerintermsofhowmuchineedtodoandhowmuchimactuallygoingtogetdon',\n",
              " 'imsocold',\n",
              " 'thecoolestoutehhhdontweathersgonnatakeaturnfortheuglytomorrow',\n",
              " 'chelserlynnhahaitssocoooooldinthedandnobutyoushouldstillgototheshowtheydosomeincrediblestuff',\n",
              " 'hopingthetummyrumblesgoawaysoon',\n",
              " 'knightsnononoticetheytoldmeidbeworkingtomorrowandthenicalledtheagencytofollowupandtheysaiditwasov',\n",
              " 'almostbedtim',\n",
              " 'immissingyoubabebutaslongasyouraliveimhappyyawwwnnimtiredmyloveimmatrytosleephopefullyyouhadaheadstart',\n",
              " 'aghsnow',\n",
              " 'imisskennypow',\n",
              " 'bridgetsbeachesthankyouforlettingpeopleknowbutnowimsadthatthedirectmessageigotwasntactuallyfrombridget',\n",
              " 'andindiamissedoutitsthtestvictorynthconsecutivewinwithoutaloss',\n",
              " 'jonathanrknightiguessthatsanothen',\n",
              " 'sadlyisgoingtob',\n",
              " 'ozestephshametohearthisstephan',\n",
              " 'mrsaintnickheyimleavininthemorn',\n",
              " 'wasintendingtofinisheditingmypagenovelmanuscripttonightbutthatwillprobablynothappenandonlypagesareleft',\n",
              " 'laidaroundtoomuchtodaynowmyheadhurt',\n",
              " 'twistaistillhaventreadthethampthprincessdiariessavingfrancescamademecryattheendhmmthoseareeasybook',\n",
              " 'mynokiadi',\n",
              " 'mymommighthavebreastcancerwontfindoutanythingforlikeaweekimsoworri',\n",
              " 'goingtosleephopingtomorrowisabetterday',\n",
              " 'rumblepurrlolwishtheyunderstooddaylightsavingshasendedthoughandbreakfastisanhourlatertheykeepwakingthekidsuptoo',\n",
              " 'onemoreprojectthatislam',\n",
              " 'idontunderstandireallydont',\n",
              " 'heroesjustisntdoingitformethisseason',\n",
              " 'livingnotdowntownsureisntmuchfun',\n",
              " 'jonathanchardnotcaloriewiseiwishjunkfoodwascaloriefreeiateathingofsourskittlesandabigasscherrycok',\n",
              " 'manworkishard',\n",
              " 'gettingsicktimeforsomehotteastudyingandthensleeeep',\n",
              " 'gettingeyebrowswaxedmorepain',\n",
              " 'nophantasystaryesterdaygoingtowork',\n",
              " 'ohjustgotallmymacheistappssweetdidntgettheespressoserialnothoughalthoughtheysaidtheysentitohwel',\n",
              " 'pickedmichsttowinitallfromthegetgowasfeelingprettygoodaboutthatpickallthewayupuntiltonightaslosttoo',\n",
              " 'isalonedownstairswork',\n",
              " 'ifeelbadfordoingit',\n",
              " 'ryanseacrestisitjustmeorshehatesanoopimeanseriouslysheskindameantohim',\n",
              " 'pinkserendipityyessprinthasgonlyinbaltimoreandchicagosofar',\n",
              " 'imstuckawakeinthemiddleofthenightfortheseconddayinarowandifeltterribleyesterday',\n",
              " 'thanksforburstingmybubbl',\n",
              " 'goingtoschoolsooncantfindanythingtoweargoshitssohard',\n",
              " 'marieclriwasseriouslol',\n",
              " 'naughtyhaughtyihadonmypageforsooooolonguntilitgotdeletedsaddayinhistori',\n",
              " 'crazywindtodaynobirdinghttpffimxtti',\n",
              " 'currentlyatwork',\n",
              " 'grrrmyipodsactingweirdtoojaihoandthinkingofyouarentplayingthefullsongsughh',\n",
              " 'penndbadsendmethedvdcosihavemissedoutonheapsnothappyaboutthat',\n",
              " 'idontseethebigdealwiththiswebsit',\n",
              " 'machineplayimsosorryyourehavingtogothroughthisagaintherapyfail',\n",
              " 'colindemarfartoooutofthewayforrailanyothertip',\n",
              " 'imnotstillupiswearwhydoikeeplosinggaininglosinggainingtweepssoheartwrench',\n",
              " 'todayirealizediamtoogoodathidingthingsevenicantfindit',\n",
              " 'stayingatafriendshousehousesittingneighborsaresoloudhavingaparti',\n",
              " 'dannyvegasbabydannyimupsetthatiwasntheretowatchthelivechatiwasinacarforhoursonatripimsooooupset',\n",
              " 'checkoutmymughttpwwwerikaobscurablogspotcom',\n",
              " 'bordersclosedat',\n",
              " 'downloadingninsnewalbumquottheslipquotwhenthehelldidthiscomeoutimsobehindthetimestheseday',\n",
              " 'justwokeupanalreadyhavewrittensomeemailivetogoearlyatuniversitytodayasihavetoteachatam',\n",
              " 'iswatchingthehillanditsmakingmesad',\n",
              " 'somanychannelsyetsosoboringlazydayagainmayhavetofindahobbi',\n",
              " 'supersportimissmybuddyillbeinnyontheth',\n",
              " 'robluketiclovethefrenchitellpeoplehereinthesouthimqtrfrenchandtheysnarlatmefrencharebeautifulpeopl',\n",
              " 'oppsasisaidistillgotonedayremainandnowproblemcom',\n",
              " 'iactivatedmyselfcontrolblockearlymeaningicantcheckoutthenewqcregularizingmyinternalclockismightbedifficultfb',\n",
              " 'hillydopohno',\n",
              " 'spencerisnotagoodguy',\n",
              " 'goodlaurawhataboutreesedyingonttscandseasonfinalenextweekboringmadamepresidentisacrazywoman',\n",
              " 'jonathanrknightihatethelimitedletterstoohopeyouandtheguysarefineiprayformydogshesnotwel',\n",
              " 'didntgetshitdonetodayimsoscrew',\n",
              " 'wanttsstogoout',\n",
              " 'isnotgoingtosleeptonit',\n",
              " 'tooworriedandtiredtoposttonight',\n",
              " 'couldntgetshitdonetodayimsoscrew',\n",
              " 'jobinterviewincardifftodaywishmeluckgotabouthourssleep',\n",
              " 'stustoneyourshowiswhackwayworsethanwhackitswiggetywhack',\n",
              " 'djalizayireallydontthinkpeoplechoosetobethatwaybutithinkhechosenottoacceptmyfamilyshelphemightbedeadbynow',\n",
              " 'eloquentembraceyouregoingtokillmebutivenotseendsivebeenwaitingtillicandoitinonesolidweeksit',\n",
              " 'cheechbudithinkurrighthahahahrsnow',\n",
              " 'ihatetoseethespartanssosad',\n",
              " 'mymindandbodyareseverelyprotestingthisquotgettingupquotthinghadnightmarestoboot',\n",
              " 'mysteezradioimgointofollowusinceudidntlolgoangel',\n",
              " 'mandayyy',\n",
              " 'twistaithinkiwanttoreadsomebooksbutthelibrarydoesnthavethem',\n",
              " 'mynapwasinterruptedsomanytimestodaygoingoutforjapanesewiththerentsagain',\n",
              " 'kindoflongsforthebusthatshowsupattheendofghostworldrightnowugh',\n",
              " 'gurumnbutthisiscanadacanadaisweirdweresupposedtogetsnowthroughwednesdayugh',\n",
              " 'awwhbabsyoulooksosadunderneiththatshopentranceofquotyesterdaysmusikquotoilikethelookofthenewtransformermovi',\n",
              " 'sadthatthefeetofmymacbookjustfelloff',\n",
              " 'imgonnagetuplatetomorrowanditsamhereigonnagettipsybymylonesomethatsthatsjustsad',\n",
              " 'imsweatingmyforthcomingtriptoeificantfindsomeonetocrashwithwhileimoutthereimaybescrew',\n",
              " 'hasnowgottensomebodytoreadhistweetsbutcantgetthemtomakeanaccount',\n",
              " 'infinitydefinesomgawdicouldnthandlemycatbeinginheatallthetimedd',\n",
              " 'donniewahlbergihopeicanmakeittotheauburnshowbutitsnotlookinggoodform',\n",
              " 'davidhenriethatspeoplemaghahaicouldntfititallinidontthinkthosepicturesevermadeitinthemagazinethohaha',\n",
              " 'breadandbadgercongratsitotallyforgottosubmitphoto',\n",
              " 'paulaabdulawwwgoodluckpaulapleasedontworktoohardbutihopeyouhavefunyournewalbumisgonnabeamazingxxx',\n",
              " 'imaginarypeachnowyourleavingmegetssad',\n",
              " 'imissyoutwittermyphonebrokenowimusingastupidnokiaphoneughhhimissmyadvancephon',\n",
              " 'shootingoutsidemyhouseonotkiddingsoscar',\n",
              " 'tuesdayllstartwithreflectionnthenalectureinstressreducingtechniquesthatsuremightbecomeveryusefulforusaccompani',\n",
              " 'whattragedyanddisasterinthenewsthisweek',\n",
              " 'yesyesstilltryingtofindapicturethatwilluploadcorreclti',\n",
              " 'whyohwhywastheredsoxgamerainedoutiwassolookingforwardtoopeningday',\n",
              " 'istillcantfindmykey',\n",
              " 'charlietmiknowrightidunnowhatisgoingonwithtwitt',\n",
              " 'mightbegettingasorethroatagain',\n",
              " 'labelsnotlovemyhometownmymammycalledalldepressdplsexplainyaparentlettheiryroldchildwalkalonehelloit',\n",
              " 'ircmaxellithinkineedtofindbetterantidepressantsithinkthispaxilwellbutrincomboislosingitsefficaci',\n",
              " 'myconnecticutrestaurantcalledwoodntaphascompetitiveeatingtourneyroundtourneytimeweplacend',\n",
              " 'isinthebathroomwakeuplakin',\n",
              " 'caitlinoconnoriwanttacosandmargarhitastelllgayisayhellolt',\n",
              " 'imlonelykeepmecompanyfemalecalifornia',\n",
              " 'baddayatthebetfairoffic',\n",
              " 'imisshimcantwaittocelebratethetarheelwinthisweekendthough',\n",
              " 'imreallycoldidontwanttogotosleepyetbuttheresnothingtodo',\n",
              " 'kristencampisiisthisituitsofficiallyovermethisgoround',\n",
              " 'monkeysijustfoundoutyoumytwinandyouwontevenwritebackimheartbroken',\n",
              " 'missomawwiknowifeltlikethatyesterdayatwork',\n",
              " 'sarahreedsctreatyisntdefin',\n",
              " 'missedbrentatpraisebandnofuntonothavetheyourleadguitaristltpoutgt',\n",
              " 'jpfurrypoorjohnthisiswhathappenswhenyouplaywithfruitandamicrowaveseriouslythoughhaveyouseenadoctorxxx',\n",
              " 'missingmybffwatchinghomeandawayitremindsmeofherandmeweltitshoutouttoucourt',\n",
              " 'mandayyy',\n",
              " 'newvideocardisdoa',\n",
              " 'feelinglostnakedandconfusedjksortofnoiphoneform',\n",
              " 'damniamsolateatfillingthisappraisalformpeoplehavealmostsentitiwassooccupiedinwork',\n",
              " 'missedbrentatpraisebandnofuntonothaveyourleadguitaristltpoutgt',\n",
              " 'ithinktomuchonthepasticantchangeitideservedsomuchmorethenwatigotbutwhyamistillthinkingabouthimgah',\n",
              " 'haslosthisringitsnowheretobeseen',\n",
              " 'burgawoooooohsealclapseeidownloadshitloadsofzipfoldersoffchanihavenointernetmoneysfuckyeahaliciaampmikey',\n",
              " 'isstillnursingmynilebutgladheisfeelingbetterihatewhenmybabyissick',\n",
              " 'isfuckedtogobackto',\n",
              " 'brandizzzleyoyoyomyinternethasbeenrudetonightitjustreconnectedandimabouttogotob',\n",
              " 'jemcamwellihaveunistuffandnetballbutafternetbalifivedoneunistuffwecan',\n",
              " 'kissabilitymetooiispoor',\n",
              " 'helpmeforgetthaprilampthjuli',\n",
              " 'dierksbentleyiscomintocolumbusohiwannagosobad',\n",
              " 'ihavetotakemysidekickback',\n",
              " 'chriscantorecongratsimtotallyjealousonlywishmyxmwaswork',\n",
              " 'grtmyfaceisveryitchi',\n",
              " 'poorsocksluvvvvvthegoldenretrieveriwantonesighhhh',\n",
              " 'ijustsawthattheyfoundthattracygirlinapieceofluggagehowfuckingterr',\n",
              " 'aaaaandthenauseaisback',\n",
              " 'donniewahlbergoohimexcitedandnotevengoingbetherelongloveyoutub',\n",
              " 'spenthourtoreachtoaxisbankonlytofindouttodayisholidayformahavirjayanticontd',\n",
              " 'mathewsmichaeliagreethejobrosdontupdatetheresveryoften',\n",
              " 'fishmouseitishilariousandilinkedtheclipfromljsometimeagobutwheniwentbackjustnowitwasadeadlink',\n",
              " 'diannepulhamoooooooowhowithimnotneitherbutthatsbecauseineedtostudi',\n",
              " 'haventtweetednearlyalldaypostedmywebsitetonighthopefullythatgoeswellnighttim',\n",
              " 'bostongardenimissbentley',\n",
              " 'seriouslyneedstofinishthesejobappl',\n",
              " 'mysonvincasissicksoistayathomejustthreetensedaysatworkandiambackonholidaywithkid',\n",
              " 'whingingmyclientampbossdontunderstandenglishwellrewrotesometextunreadableitswrittenbyvgoodwriterampreviewedcorrectli',\n",
              " 'huntermooreidontwanthimtoeverpunchm',\n",
              " 'sooosickofthesnowughh',\n",
              " 'itsnemesi',\n",
              " 'lovemeaganitdoesntworkyourfanisupset',\n",
              " 'iwouldliketoapologizefortherepeatedvideogamesliverelatedtweetsiamgoingtohaveasterndiscussionwithkoodosoonstern',\n",
              " 'zaydiabuticantfigureouthowtogettherebackpayforahoteletc',\n",
              " 'fmlsomuchforsenioritybcoftechnologicalineptnessinowhavetoquotregisterquotforclassesagain',\n",
              " 'feelslikeshesleptthedayawaynotlookingforwardtoanymoreboutswithmygallbladderatleastihavepillsnowforthepain',\n",
              " 'thasteviegbutwhatireallywantismyoldbassback',\n",
              " 'madtiredtodaycallinitinearlytonightnightynighttwitta',\n",
              " 'levenrambintakeiteasyandbegoodtoy',\n",
              " 'imafraidihadbadcod',\n",
              " 'thinkimgoingtobedgoodniightihatethi',\n",
              " 'riancurtisimherefriendandilovey',\n",
              " 'kariajayallthistimeyoudidntnoticeiwasgonejustneededdbisit',\n",
              " 'aaronrvaisinthebathroomandihavetope',\n",
              " 'ashleyskyybutiwantedamargaritatoo',\n",
              " 'kourtneykardashyupnightworkoutsrtheworstbutunfortunetlymyworkscheduleonlyallowsmetogoatnightitstough',\n",
              " 'justcalledhillsongagaintheysaidtheycouldnttellmewhereiwasonthewaitinglistidontknowifitslookingsogood',\n",
              " 'hasgofmilkybarleftandaroundmlofcok',\n",
              " 'jokerrrritstillllllhasntarriv',\n",
              " 'mraowifeellikedancingbutfirstartschoolwantstorapemesomemor',\n",
              " 'karenucolahibetitdoesivebeenlikecravingtoplaysoftballorbasketballbutihavenootim',\n",
              " 'isterrifiedsheaccidentallydeletedareferenceinhermanagementassignmentandhopesshedoesntgetintroublewhenshegetsback',\n",
              " 'amazonspluginnotworkedinmywebsiteitneedphpbutmyhostingproviderhasonlyphpverysad',\n",
              " 'arghiwassuuupersleepyanhouragonowimwideawakehopeidontstayupallnight',\n",
              " 'austinhilliwishiwassoldoutifyouhavesometimeletmeknowiwouldlovetohearmoreaboutwhatyouareupto',\n",
              " 'justwatchedtropicthunderdreadingtomorrow',\n",
              " 'qweendassahnohesstillmissn',\n",
              " 'chiefdelphiisdown',\n",
              " 'httptwitpiccomywraccordingtomybroournewpuppyhadapoofightandwascoveredinpooppicturestolenfromhim',\n",
              " 'playinggameathomemynewbossdidntcallmeyet',\n",
              " 'suyinhuentweetedifeelunbearableguiltimademystaffcryhttptinyurlcomcwlt',\n",
              " 'poorjoshyissickthosedamntejano',\n",
              " 'mythoughtsarewithsandracantusfamilyatthisdifficultandsadtim',\n",
              " 'franzglausiknowjustwantedtoleteverybodyknowwhatwashappen',\n",
              " 'michiganwhoidontknowthemsighsham',\n",
              " 'ihavetofilltwohour',\n",
              " 'alicayabasocuuuteheyimissyounaitsnotthesamenotseeingyougirlseveryday',\n",
              " 'jonathanrknightohdidimentionitquotgoooooodmoooorniiiiiiingquotfromgermanyimbackinmycageorbettermyoffic',\n",
              " 'throatisclosingupandihadsomestringcheesenotagoodidea',\n",
              " 'awwsandracantuisfounddeadinasuitcasemissingchildrenstoriesneverseemtogogoodpoorfamili',\n",
              " 'wishingiwashomeunderneathmycov',\n",
              " 'walkinghomefromschooldrainsallmyenergi',\n",
              " 'ridleyiagreetheshapeshiftingisacopoutiwassoexcitedforangelasepithoughtitwasthisweeknoahwasawesometho',\n",
              " 'savethestribdangiwouldhavedonethisifiknewitwasthereearlieranyotheroutingsplan',\n",
              " 'iwishiwasbetteratwritingitstakingmesolongtowritethispap',\n",
              " 'andofcourseihaveaccesstomyhalomythicmappackredownloadbutbadnewsnotthelegendarymappackughm',\n",
              " 'veneianotyetunfortunatelyanotherfewweeksivebeentoldhowareyouivebeenalittlebitbusywithmylatestproject',\n",
              " 'thecoolestouthathesunsalreadygon',\n",
              " 'dayalotharderthandayletsseehowdaygoestomorrow',\n",
              " 'mymancrushjakepeavyletmedowngayforpeavi',\n",
              " 'trishzwmegafasttripyouhavetimeduringdaytomwedsoryougoingouttonightwanttoseeyoubadtriedtowarnyoutechfail',\n",
              " 'michiganstateyoumakemesad',\n",
              " 'omgmymouthisinsomuchpainijustwannasleepuntillitstimetotakemybracesoff',\n",
              " 'gettingannoyedeasilytodaygtgtgtbiofuelproposalgettingannoyedeasilytodaygtgtgtbiofhttptinyurlcomceprv',\n",
              " 'mizzchievouzheygirlthesiteisbackgirlyvueisbackandtheyhaveevenmorevideo',\n",
              " 'ahleyfimspendingtimewithmygrandmaearlytomorrowandicantleaveskittlesbyherself',\n",
              " 'justgothomefromwatchingmichiganstategettromp',\n",
              " 'ohjewbustwoyearsworthofclassesworkisalottoorganizegtltimnotfinishingtonightitsnotpossiblemybonesach',\n",
              " 'griffmiesternoexchangingformemylaptophasntarriv',\n",
              " 'hyperbetsihopethisdoesntlasttoolongifeelmiser',\n",
              " 'rcomporachelhangoutageisneccessaryiwasgonnabehomethiswekendbutdumbfolkmakemeworksoimfreefandsatuntil',\n",
              " 'theleaguesfnotfunampfuriousthenewmantraforthebaybreakersitwasgettingrambunctiousthecityoverreactedampclampeddown',\n",
              " 'amberbensonmyhubbyforsomereasonthinksitsmoreimportanthehasagoodspotforredcarpetforthetrekmoviepremieresod',\n",
              " 'iswearnomatterhowlongivebeengettingupatamitnevergetsanyeasiermanmyeyeshurtswah',\n",
              " 'jeffreestarjeffreehowdoyoukeepyourhaironecolormypermanentdyefadeswithintheweek',\n",
              " 'otakusecretmyreactiontoowhoadidntseethatcom',\n",
              " 'stillsickfeelingabitbettergotsomenewmedicinehopeifeelgoodafteranightofsleepohhanditssupposetosnowwtf',\n",
              " 'dangermuseithinkmaybeyoushouldgetacouplemorehoursofsleephonhowproductivecanyouberightnowifurdogtirediworri',\n",
              " 'maddyvathanksalotlearnedalotofnewwordsbutdidntfindwhatiwaslookingfor',\n",
              " 'wishihadallthexblmdownloadsallonthegamertaghitokyrithisgamertagthingisnonsenseandimtiredofit',\n",
              " 'newtestamenttestatam',\n",
              " 'scoutbucktonsnohaytrollahhhh',\n",
              " 'stupidmovieswewatchedmirrorsuggggghstooopeeedripoff',\n",
              " 'httptwitpiccomyyiiloveyoubuck',\n",
              " 'lastonebutstillnotdon',\n",
              " 'homework',\n",
              " 'idontunderstandwhythingsgettakenawayididnthaveenoughtimewithhimitsunfairiwanthimbackhewaslikemybabi',\n",
              " 'scratchthatduinheiftwoinahalfcookiesmytumjustcanttakeanymoreshoogpoot',\n",
              " 'cococourtneyiwasjustlisteningtothesweetsforthefirsttimeinforeverimissthemsomuchcanwegotochitownforvisitsplz',\n",
              " 'geezwhatabusyafternoonmeetingsemailsmeetingsandemailandmoremeetingspmandthedayisstillgoingahitsdarkand',\n",
              " 'danganotherspringbreakhowcoolisthattoobadihavetoworkallweekohwellmoremoneyforaphonettyleverbodi',\n",
              " 'sarakateimafraidtoourreplyaboutunifromagesago',\n",
              " 'feelingdown',\n",
              " 'carvinloltheyaresomeemotionalassmenomgallthislatenighteatingbothofusarebrok',\n",
              " 'nickcarterawwnickilikeyourhairlongerwhydidyoucutitoffbreakmyheart',\n",
              " 'wonderifjonlostthenet',\n",
              " 'wowthemostdepressingthingintheworldislosingavideothatyouvecreatedinamatterofsecondsfml',\n",
              " 'nchokkanhttpswwwmycomicshopcomsearchtidbutallsaysnotinstock',\n",
              " 'poohpotlmaoimsorrypoohpotiateital',\n",
              " 'anychancesoftbellyformtubisntloud',\n",
              " 'timetomovemyposteriorandlosesomefatmyarticulationarecreakingsonomorerunningbutimdroolforsomeswim',\n",
              " 'listeningtonathancri',\n",
              " 'todaysuckedimgonnadiewithoutchrisandcallumwahhh',\n",
              " 'stousitenotupdatenoinfoaboutexamandopencourseimustwaitformailnoticesanddocum',\n",
              " 'ohsbratimsorryimfeelingkindayuckymyselfamisgoingtocometooquick',\n",
              " 'isinlovewithscrappyandismissinhimalreadi',\n",
              " 'wantstohearseblefebvressongbutmyspaceismessingwithm',\n",
              " 'badnewswasdadhascancerandisdyinggoodnewsnewbusinessstartedandiamnowalifecoachpractisingholisticweightmanag',\n",
              " 'duchessrebeccamaninterventionissoosad',\n",
              " 'helpineedanewboyfriendimstuckinarut',\n",
              " 'ifeellikeacompleteidiotimtheonlyonewhodoesntgethowthisshitworkshelpm',\n",
              " 'sawanadoncraigslistforacastingcallforafemalehostongiwastotallypsychedbutrealizeditwasahoax',\n",
              " 'pepperonirollsinlaicalledvalentinostheysaidthattheyhadsausagerollsbutnopepperonirollshttptinyurlcomcecka',\n",
              " 'soillodgeyesitwillbeitsonlymonday',\n",
              " 'iwantthenewggepisodealreadi',\n",
              " 'imisswatchingrockosmodernlif',\n",
              " 'ripsandraitssosadhowcansomeonedosomethinglikethat',\n",
              " 'keepingmyfingerscrossedformybuddyheisnotfeelingwel',\n",
              " 'waitshouldieatorbeskinnyforvegasimhungri',\n",
              " 'margeinoveraitriedtweetdeckonceandihateditwithapassionorithatedmeimnotsur',\n",
              " 'benackermanbtwmyiphoneisactingfunnydyingquicklyandfreezingandbsimnotadmittinganythingjustsayin',\n",
              " 'sittingherewonderingwhyquotedquotstillhassuchastrongholdonm',\n",
              " 'bananafaceimsorryigotyousicklolgoingtobedtoonight',\n",
              " 'carolrainbownointernetathomehavetodriveintooxtouseinternetbecauseofbuild',\n",
              " 'stevebuscemitheweatherincanadaisfreez',\n",
              " 'twiggassssssssibeenoutofrangealldayimbacknowandhopefullyforgood',\n",
              " 'danadearmond',\n",
              " 'anyonewhoreadsthisprayformygrandmashesinpain',\n",
              " 'wokeupandwashavinganaccidentquotitspushingitspushingquothewascryingbecausehecouldntstopfromwettinghisp',\n",
              " 'homefromfranklinstreetialmostjumpedoverafiresomeonekickeditbeforeicouldjennylosthersho',\n",
              " 'johnnybeaneheyyoujustchangedyourdefault',\n",
              " 'finallygaveinandwasboredenoughtostartthisthingithinktheisgoingtobeaproblemformethoitslikeamyspacestatu',\n",
              " 'ellievoliaifoooonlywewerereallysoluckyehandawhdefinitelytooearlyforwork',\n",
              " 'buttloadofhomework',\n",
              " 'needsanothercopyofvisualstudio',\n",
              " 'whytowetheonlyschoolintheworldbeinthisweekmyschoolissillyanywaylookonthebrightsidewhenimoffuwillbein',\n",
              " 'omgiveaneconomicstestandidontknowallthethingsihavetoknowandomgimgonnafail',\n",
              " 'robcthegeekonceuponatimehundredislandswastheprideofphilippinetourismbutcoralclamrarefishpoachingdiditinkindasad',\n",
              " 'henkuyinepuyeahapparentlyihavereallybadtast',\n",
              " 'hummiemdiknowiwasreallysurprisedsinceeveryonerecommendsthemonyoutubeihavetocallthemtomorrowandfigureitallout',\n",
              " 'waitingattheairportformyridewhileigetharassedbymentryingtosellmeuglyhatswhymeijustwanttosleep',\n",
              " 'ileftmyidsatthelocationandnowicannotgoouttobarsfuckkkkkkkkkkkkk',\n",
              " 'celycarmoimsorryidontunderstandyourlastcom',\n",
              " 'officialrandlwhenistheannouncementistayeduplatelastnight',\n",
              " 'kishorekthisisstrangeillegaltorrentsavlbleverywherelegaldvdnotinstockwhatdoidonow',\n",
              " 'itsnotenoughtosaythatimissu',\n",
              " 'thistrolleyhasuppackedinlikesardinespadregameandtheyremoveacargoodcallmt',\n",
              " 'randomlynatjeeziwasjusttryingtohelphaha',\n",
              " 'supamaggthathappenedtomesaturdaynightalongwithmyglitterygreenlight',\n",
              " 'tryingtoreducethenumberofcigarettesineachday',\n",
              " 'yeaitissoquietaroundherecuzeveryonehastoworkimboredtodeathwithnobodytotalkto',\n",
              " 'gottadomycookingassignmentitstoohard',\n",
              " 'treesahquicheokayabouttheapplepearsivetalkedtoafewpeopleandtheyveallhadthembeforenooneevertoldmenev',\n",
              " 'jennifermfiknowimanightowlbynaturehahahaamiatimezonebehindyouitsalmosther',\n",
              " 'mamasvanlolnopebutididhavecompletecamerafail',\n",
              " 'maximemegelderbutimuselessifidontsleepitsnotfairiwantallthefunaswel',\n",
              " 'mypookiehasautiihavetobenursegabbieandgethimbacktonomoresoda',\n",
              " 'jillianfishtweetsomethingdamnitandhangoutwithmepleas',\n",
              " 'anistorm',\n",
              " 'imsobehindinvideogamesandeverythingforthatmatterimyesterdaysnew',\n",
              " 'sleeptilnoonididitwastheonlyoneleftbutigottemptedandateitsoonasigothomeihadachocolatevelvetampatedmocha',\n",
              " 'isstressingoutbecausemyblackberrykeepsflashingaredalertstatusfornoreasonitsfakingmeoutandihateit',\n",
              " 'httptwitpiccomyeiwannawearmydocmartensouthaventwornthemsincedecemb',\n",
              " 'whentotheshoerepairshopandtheguycouldnotfindmyshoessoihavetogobackandseeifhecanfindtheminacoupleday',\n",
              " 'bbarnettididnotreallyseethatcom',\n",
              " 'justwokeupfromthemostvividsketchynotcooldreamsofmylifetimetostareatthewallwiththelightson',\n",
              " 'itlltakedaysformysistertogetherpassport',\n",
              " 'nicolerichieohmyyesimiss',\n",
              " 'uhohithinkiamgettingsick',\n",
              " 'goodgodtheyruinedmybellybutton',\n",
              " 'watchingwhoframedrogerrabbitmakesmemisstoontown',\n",
              " 'akianzrentingbutverycheaprentingandawesomehousewehadbuyingattemptsfallthrough',\n",
              " 'runningnosespinningheadnotagoodcombinationforameet',\n",
              " 'eazydoesitnegativeyoulostmyvoteofconfid',\n",
              " 'nastybudgetdueandmyiphoneisbeingsenttoappletoday',\n",
              " 'sofiinoelthatsbad',\n",
              " 'dammitepisodeofkingswontplayforsomereasonstoppedinthemiddlenowwontdoanyth',\n",
              " 'imsoupsetthatimissedmychatandquizonlinebecausemyfreeinternethasceas',\n",
              " 'cantbelieveitimindisbeliefofitallinawayreallyhowmuchcanitakefrompeopleandalwaysgethurtbyoth',\n",
              " 'carshowseasonhasstartedwithoutm',\n",
              " 'mythroatisraw',\n",
              " 'kevchoiceijustdontgetitwhatinapersonsmindcouldevenhavethemonsomeishlikethismyprayersarewithherfamforr',\n",
              " 'fragoihateyouididntneedtoseethatineedtocallmytherapistnow',\n",
              " 'twilightdidntcomeyesterdayfingerscrossedfortoday',\n",
              " 'nileleganiagladiwasablehelpyoufeelbetterihatetoseeyousicklovey',\n",
              " 'istiredddddddwanttosleepbutihaveanassignmenttofinishandanexamtomorrowtostudyfor',\n",
              " 'youknowiwasthinkingineedmoney',\n",
              " 'omgitsjstteusday',\n",
              " 'ddlovatodavidhenrieummmmmicantfindit',\n",
              " 'justheardthattheyfoundsandracantushewasonlyyrsold',\n",
              " 'corrosivecandyiveforgottenhowtosnoosnooiwonderifsnoosnooandiwillevermeetagain',\n",
              " 'amanorriswowthatlasttweetmademeseemlikeagiantsexistsorryaboutthat',\n",
              " 'mybathtubdrainisfiredithazjobdoampitizfailigotalldranoonitsassampizstillnotdrainingiwannashowerdangit',\n",
              " 'stuckathom',\n",
              " 'nomadicmattmineishowdoyougetitup',\n",
              " 'ducklinginfamouschildrensbookstolenfrombostonspublicgardenthebostonglobehttptinyurlcomdchtxviasharethisohno',\n",
              " 'appomattoxnewsthankyouhoweverihatetobeonthesamelistthatincludesconvict',\n",
              " 'headingtoaltrinchamagainoutofhoursinstal',\n",
              " 'morninggoodimbloodyknackeredworkisnotformetodayhelpppxxx',\n",
              " 'jeffreecuntstaridonthaveagaragebutyoucanparkinmydriveway',\n",
              " 'lauredhelwhathappen',\n",
              " 'quotonpopularmusicquotbytwadornoisprobablythemostdifficultreadingeverprescribedimactuallystrugglingtocontinu',\n",
              " 'httptwitpiccomyecantseetheflowersfallingidonthaveacamerajustmycellphon',\n",
              " 'wevebeengoodimnotlikingthesnowrightnowwasgettingusedtothenicespringlikeweatherhowabouty',\n",
              " 'brianarmstrongwhatapityyoutubeiscurrentlyblockedinchinaicantseethevid',\n",
              " 'margaretchowhathappenedtoyourshowitwasthehightlightofmylif',\n",
              " 'thisisthebestleathersofaintheworlditsintheofficethoughwhichmeansimstillherework',\n",
              " 'stillmoredaysuntilmyinternetgetsuncap',\n",
              " 'ifhedoesntgetbetterinafewdayshecouldhavesomethinglodgedinhisbelli',\n",
              " 'ilovemyatekinzzsomuchampampisoomissh',\n",
              " 'iwannasneakintothezooandplaywiththekitti',\n",
              " 'lolitariotohnohopeyourenotgettingsicktoo',\n",
              " 'alejandraleiidontthinkicancauseitsmycousinsbirthdayparti',\n",
              " 'oursweetlittlemanjustfellasleepwhilewaitingupfordaddyandbigbrothertogethomepoorbabyhemissedthemsomuchtoday',\n",
              " 'theangelisgoingtomisstheathletethisweekend',\n",
              " 'trustishard',\n",
              " 'havewatchedthatconsideringtodayyaknowshawnnatomomorrowineedmybestfriend',\n",
              " 'grriwanttokeepreadingbutifidoiwonthaveanythinglefttoread',\n",
              " 'atekinzzwhereintheworldarey',\n",
              " 'rumlovernousupposedtobemyd',\n",
              " 'pearsampbriebottleofcabernetandquotwinadatewithtadhamiltonquotohgawwdmylifeflashedforwardtowhenimwithmycat',\n",
              " 'crapineedmoredressestoo',\n",
              " 'kaeeeepyeahiknowitwashorribleughsadden',\n",
              " 'brodhegeezurnofunarey',\n",
              " 'iwannabeinapunkrockbandagain',\n",
              " 'jyesmiththatsalotofangstforatuesdayafternoon',\n",
              " 'imverygladbritneyisntcrazyanymorethatwasonehellofashownowimsadthatitsovernextupapatcookcounti',\n",
              " 'hasahuuugeheadacheomgifeellikecrap',\n",
              " 'anistormsorri',\n",
              " 'clederssorryiwasrootingforthemtoo',\n",
              " 'manthattookforev',\n",
              " 'shandasaurusise',\n",
              " 'iamlistingmoreitemsonebaytoselltakesforevermeanwhilecolemaniswatchingthehillsseasonpremierwithoutm',\n",
              " 'justgotmypresentationdoneslidesdoneimcryingforthisweekwillbethehardestofallweek',\n",
              " 'justlost',\n",
              " 'idontlikethepreviouslyonskinsthingthatstartsatseasontwoilikeitwhenitwentstraightintotheintrolikebefor',\n",
              " 'houndouriwishiwasthereimprettygoodatscaringtheshitoutofpeopl',\n",
              " 'goingtosoundvainbutrunningoutofmyfavlipgloss',\n",
              " 'stuiyneveragainwilliclickonalinkthatscreamsquotimaspiderimaspiderquotishouldhaveknownbetteryucki',\n",
              " 'whyisthatwhenyouhavetimeofffromworkyougetsick',\n",
              " 'pratamasameimaccameoutmoreinindonesiathanthest',\n",
              " 'dammitineedtostopbuyingfurnitur',\n",
              " 'misssilnoiwashalfasleepandturnedoffthelaptopafterthat',\n",
              " 'deathispeacefullifehoweverbit',\n",
              " 'ithinkjonathanrknightlostthenetsurehopenot',\n",
              " 'httpisgdrzfhttpisgdrzyandhttpisgdrzgtestfootagewithmygirlfriendinhdthedarkoneisunderxpos',\n",
              " 'suchatoughgametowatchtonightforstatefinallygoingtobedafteralsostayinguptowatchtheseasonpremiereofthehil',\n",
              " 'seemsjrubysupportforhpricotisnowtwoversionsbehind',\n",
              " 'jinxcatunlikemysisteristilldonthaveon',\n",
              " 'frakingappstoreispissingmeoffhttptinyurlcomcooho',\n",
              " 'loggingoutineedtostudi',\n",
              " 'anyoneelsehavingproblemsaccessingttbicantgeton',\n",
              " 'istronglydislikepeoplewhomakestupidcommentsanddontknowthewholestori',\n",
              " 'emmaketurahimsorryemmaisswarleyagoldfishimsadforu',\n",
              " 'allmytweetsarealreadygonearenttheymissedyouguystonight',\n",
              " 'cantsleepagainfaceiskindaswollendontletmebeallergictothethingthatllgetmetothursdayschooltomorrowdoubt',\n",
              " 'snickthedogifizzysonthecattreeshellstarehimdownbutifshesonthefloorhechasesandsherun',\n",
              " 'iamofficiallybanninggodaddycomfrommycompmyheadhurtsfromthesmallprintandiwastedthatcouldvehappilygonetoboba',\n",
              " 'humanopiumprettymuchjustscaryform',\n",
              " 'ilovepieminestooimfindingitwellhardtogetfit',\n",
              " 'goodmorningreadygobutiwantgobackb',\n",
              " 'hateswaitingformail',\n",
              " 'wheatbreadfromthedollarstorejustdoesnttoastnicelygoingovermytaxesandcallingitanearlynight',\n",
              " 'whykutnerimeaniknewsomethingwasgoingtohappentosomeonebutitwassosadilthouseanditwaswelldonebutimstillsad',\n",
              " 'jonathanrknightawokgoonit',\n",
              " 'illsoicantgotothecinema',\n",
              " 'fellasleepreallydidntmeantoochristina',\n",
              " 'kelleyroweheyyourememberthattimeweusedtobefriendsughvomitsickineedsleep',\n",
              " 'mylymphnodesareasmassiveasrahmemanuelsballsrightnow',\n",
              " 'ohnomycomputersucksidontthinkillbeabletolistentothexboxfancasttonit',\n",
              " 'ismissingplayingmytrumpet',\n",
              " 'mythroatisstillreallysoreiwasmeanttobegoingonadaycampfromfridaybutnotsosurenow',\n",
              " 'sasiiiknowexactlyhowyoufeel',\n",
              " 'atwork',\n",
              " 'wellbedtimenowamsighsbacktoammorningsforaweekonwednesday',\n",
              " 'hertjesuscampyeah',\n",
              " 'marybethuneohnowitheverythingthathappenedtodayiforgotweweregoingdressshoppingfortheoperatomorrow',\n",
              " 'turtlesarebetterthanmymaclastslongerandmovesfast',\n",
              " 'iamsoakedthisisnotpleas',\n",
              " 'ginayatessorrytohearaboutmaggiethoughtstoyourmum',\n",
              " 'ewardenyoumayhavetoemailthisonetomeihopeyoufeelbett',\n",
              " 'miamiiboiideadyugettinonwenimleavin',\n",
              " 'arlenecdpleasetellmethatssomewhereclosetocalifornialol',\n",
              " 'phlaimeauxwherearey',\n",
              " 'stupidarrangedmarriagesillconvertsoyoucanmarrymelovey',\n",
              " 'emilyruppewellhesaidthatheisalooserandthatiswhattheshowimpli',\n",
              " 'poorsandracantuampthecantufamilymyprayersgoouttothemwhatasickworldweliveinshewasonli',\n",
              " 'fuckomgaustinsalwaystherethoughmanltlovey',\n",
              " 'nicolerichieicriedsohardwhenmatthewdi',\n",
              " 'sadthatthefeetofmymacbookjustfelloffsadthatthefeetofmymacbookjustfelloff',\n",
              " 'chordsywhyamithelasttofindoutaboutthesethingslikethatyoureonthetwittertoo',\n",
              " 'lovebscottabsolutelynot',\n",
              " 'httptwitpiccomycffilledwithcurrythetrueindianinmeiscomingout',\n",
              " 'imsoooocoldrightnow',\n",
              " 'heidimontaglolikantbelievecamgotbeatuppsoooembarasssiiiin',\n",
              " 'jonathanrknightgoodknighthunlookingforwardtourtweetsagainhatethatikeepmissingoutonthefuncuzofthetimediffer',\n",
              " 'tumblrthisisexactlyhowitfeelswearingatiehttptinyurlcomcbvqh',\n",
              " 'danielahahaaijustrealizedquotimpunequotdefinitelyisntthewordiwanteddangimsounclev',\n",
              " 'watchingoldvideosofdanceteamandsuchmakesmemissit',\n",
              " 'wahhnocsianywheredvredilovemoneythoughgonnawatchitthensleepgoodnighttweeterslt',\n",
              " 'strugglinghardwithinventori',\n",
              " 'ddlovatodoyouhateuspleasedont',\n",
              " 'ballinbitchhahaimnotthatballinistillgotbillstopaaaaay',\n",
              " 'iminoneofthosedayswhenireallyjustwanttoworkfromhomecrap',\n",
              " 'paulewogwaitisitagameorjustepisodesimsoconfus',\n",
              " 'carlywhahaicriediguesshedid',\n",
              " 'idontgetstatisticsitsallabunchofmumbojumboform',\n",
              " 'sloanbgotitsadlyonlyworksforukampusatthemo',\n",
              " 'evict',\n",
              " 'doesntenjoylearningcss',\n",
              " 'nachojohnnybriandontmakemefuckuuplolirepliedurmessagedidugetmyimissu',\n",
              " 'heidimontagidvrditandwenttowatchitapparentlythedishnetworkwentdownsoimisseditiwillhavetocatcharerun',\n",
              " 'jessdubblmaoumayhavetowaitforanotherseasontocomethruitssummeboohotnddryassweath',\n",
              " 'lizchavezicantsetmyfeetonthegroundthemissingeyelidpeoplemightgetm',\n",
              " 'danielamyenglishprofessorwouldbeasham',\n",
              " 'oiwishthefrogswerentbecomingextincthttptinyurlcomcxew',\n",
              " 'camehomefromcrosscountytireda',\n",
              " 'idontwanttowalkhomeinthissnowwhowantstopickmeup',\n",
              " 'heidimontaglaurenisbeingstubbornshelovesyouyouloveherifeelsobadforyouthoughitmademecrylol',\n",
              " 'isgrouchyandwantsbmar',\n",
              " 'myheartisbrokeneverymorningdroppingfooatpreschoolnowiunderstandwhenmomssayquothehasmyheartbrokenquot',\n",
              " 'notfeelingwellandbackhurt',\n",
              " 'iminthemoodforsomechocolateiwantminiaturereesescupsnow',\n",
              " 'icanttakethisheatitslikeanoveninhereifeelsicknwo',\n",
              " 'nickcartercometothechatjustminutespleasehttpfanclubbackstreetboyscomchatphp',\n",
              " 'boreddcoldddinternetkeepsstuffingup',\n",
              " 'ihadahorriblenightmarelastnightwhichaffectedmysleepnowimreallytir',\n",
              " 'imlonelykeepmecompanyfemalenewyork',\n",
              " 'bornbroadwaylostanditwasstignaciusprepatoryschoolhaha',\n",
              " 'birutagmeyeahitwasreallydepressingstufflikethatgetstom',\n",
              " 'whoisaristonnoproblemtongueincheekremarklotsofacronymsbutnonz',\n",
              " 'greggrunbergheyyousaidmattwasgonnagoallballisticiwasdisappointedgoodepthomostli',\n",
              " 'ughhorribleendingtothesandrakantustoryprayersgoout',\n",
              " 'danielledeleasahttptwitpiccomypeihateballergiciwantapuppysoobadthativealreadythoughtsomecoolnam',\n",
              " 'morningfolksamyawnupampawaytoseetohorseshopetwitterisbetterbehavedtodaylastnightwasatravesti',\n",
              " 'quandotcomimissminetoo',\n",
              " 'amandaenglundsorrytohearaboutyourlosstherehavebeenmanythisyearsofar',\n",
              " 'nicolerichiegossipgirlwasarepeat',\n",
              " 'inyoureyesireckon',\n",
              " 'findingitreallyhardtousetwitt',\n",
              " 'ivebeenstuckinthishousefortwoday',\n",
              " 'isreallysadanddoesntreallyknowi',\n",
              " 'thousandmilesno',\n",
              " 'maybeoneoftheseyearsillgetataxreturnagirlcandreamright',\n",
              " 'backatworktiredashellandifeelacoldcom',\n",
              " 'clarianneknotseriousaprilthisntcomingsoonenough',\n",
              " 'hannahsixcreamforhiseyeandhemayhaveherpesnotocularherpesbutadifferentstrainhesdoingokaythough',\n",
              " 'gottarepeatwholeartfoliocuzoldonewithawholetermsworkgotwet',\n",
              " 'imreadyfortheweekendalreadyitsonlymonday',\n",
              " 'lovebscottummnopethinkimaninsomniacplusigotthefluilllbesleepinlikeaphuckinfishouttawateranyminutenow',\n",
              " 'hasfinlandsleepingforthenightnotreallyenoughtim',\n",
              " 'lunafikocantwaittotryembutprollyhavetowaituntilnextweekendattheearliest',\n",
              " 'shineristakingupallmybedandblanket',\n",
              " 'clarianneaprilthisntcomingsoonenough',\n",
              " 'wantstocri',\n",
              " 'ineedtogotothebanktomorrowbeforeigobrok',\n",
              " 'thisearthquakeinitalyhasmesaddenitsonlythreehoursawayfromnapleswheremyfamilyi',\n",
              " 'ishouldbesleepingihaveastressedoutweekcomingtom',\n",
              " 'dragoneeryeaiamworkingtphackmyservertodotheplayerthingforfolk',\n",
              " 'hashurtherankleandisgoingtothedr',\n",
              " 'raymondromanohnoeshowdidyoumanagetosendsomethingtothetrashcanandemptyitwithoutnoticingifeelforya',\n",
              " 'lostmyfreecopyofradioactivesocantputitonmyipodgrrandicantgooutbuynothercozitcamewiththatpap',\n",
              " 'doingmakeupshit',\n",
              " 'photoshopihateitwhenyoucrash',\n",
              " 'vacationsmakesmefeelsick',\n",
              " 'youshouldnthavegon',\n",
              " 'listeningtomurdandthwonderjustchillenoutmissingmycrazysexlif',\n",
              " 'louieshootingbecarefulluisa',\n",
              " 'hillaryimsureeveryonehasruinedmygifttoyouwhitneyhasmyseriouscellwedoingeasteraswel',\n",
              " 'isatbesoinhollywoodsotir',\n",
              " 'idontwanttowakeupearlytomorrowdamnyouwork',\n",
              " 'justfinishedwatchingthemovieprayersforbobbybrokemyheart',\n",
              " 'syekrismykireallyhorr',\n",
              " 'stephenkruiserihadputmydogdowntodaytoosomeoneranherov',\n",
              " 'nevadawolfsorrytohearaboutyourdnfruntonightalwaysarisktogetbadcoordsonanftf',\n",
              " 'honeyididgetsomedisgruntledpeoplewheniwrotemyesnbutthehitsinonedaymadeupforitbillpullsintop',\n",
              " 'moonyohhomglmaoimcryingrightnowlolkutnerrrrwasthebest',\n",
              " 'camebackfromrunningandtookashowerwhydoesmylowerstomachstillhurtafterexercis',\n",
              " 'watchingfallonwithmomandworkingonaprojectschoolishard',\n",
              " 'mintillhometimeandcountingihaveacravingtovisitthemacstorebuttheywillhaveclosedbythetimeigetther',\n",
              " 'stephenkruiseriamsosorrytohearthattakecar',\n",
              " 'paulcoleshmmmgreedisgoodwhenitmotivatestheindividualtodobetternotsomuchwhenittakesawayfromoth',\n",
              " 'gabbyisactivebratyouhavetorubitindontyouiwantamocha',\n",
              " 'kutnerrrrwhywhyandtothinkthatisstillontheshowughkutnerkalpennyouvebeenthebrightstarinho',\n",
              " 'redvinylgirlmymomhasitiwishyouthebestofluck',\n",
              " 'isohatehomeworksmyheadhurtssobad',\n",
              " 'gottheebaybluesitemiwantjumpedfromnobidderstooverinanhourstillhashourstogoidbetternotgetmyhopesup',\n",
              " 'gigdiaryiknowwasalittledepressedthatweatesomuchlastnighttherewerenoleftoverstoday',\n",
              " 'wellthepcinmylivingroomsufferedafatalpartionlostallmyituneslibraryisgoneandsomedocswithp',\n",
              " 'saddaymanuoutfortheseason',\n",
              " 'stephenkruiseryoupoorspunkyitssosadmyrottimadeittoandihadtogodownthesamepathiknowhowyoufeel',\n",
              " 'imsooosadrightnowineedahug',\n",
              " 'wantsherstepbrotherhomeimsoworriedyoudontevenknowihopeheknowshowmuchicareforhim',\n",
              " 'heidimontagjustgotdonewatchingthehillsloveditexcitedforthenextepisodeandimsadthisisthelastseason',\n",
              " 'ryanmwilsonawwthatstinkshug',\n",
              " 'imtiredifeellikecrapandtheworldfeelsallcrummymakemehappyusbdiscomous',\n",
              " 'idontwanttobelievewhatimreadingbuusosad',\n",
              " 'wonderingwhygamebattlesisdown',\n",
              " 'whitetrashvsuswewereoutnumberedhttptwitpiccomyjp',\n",
              " 'emitstopsotrueihaveitanddontuseit',\n",
              " 'springbreakishereatlastbutnooneisheretocelebr',\n",
              " 'morningbahcarwontstartwaitingfortheanwb',\n",
              " 'katebornsteinwhichisprettyantimemorialtattoosbutforallbutthestrictesttheresnoofficialbanjustdisapprovingfamili',\n",
              " 'balamuruganalongtermmemberoftheteamisleavingthismonthwellmissworkingwithhimhopehedoeswellinhisnextventur',\n",
              " 'justgeloitssadknowinghowtheyfoundherbodywhatacrazyworldweliveinnochilddeservesthatyaknow',\n",
              " 'iwannarockamaxidresscoachellabutlackingfund',\n",
              " 'ofcoursethebabyisscreaminginthecribthenightbeforemyfirstdaybackatworksoilethimcryitoutboooo',\n",
              " 'iamhomemissingmybabybusyweekaheadfriisachilldaywithmyguyandkidsegghuntsatspiralanddmbsatnightandeast',\n",
              " 'followsavvyineverfoundhereverytimeiclickonhertwitterthingthroughyourmyspaceitgoestosomedudespag',\n",
              " 'stephenkruiserthatshorriblesorrytohearthat',\n",
              " 'davidhenrieicantfindititsaysdtmafiaofficialdoesntexisttheresjusdtmafiaifoundnudunseemtobfollowinitwhttodo',\n",
              " 'ithoughtyouwouldsupportmeonthi',\n",
              " 'augheffsarthistolesomeofmilsnailpolishitsprettyo',\n",
              " 'wishesiwasonthespringflingtourwithdawnampneeceesighgknight',\n",
              " 'thehoytsdistributionnzwebsiteisntworkingformegreatandithastobelikethiswhenineeditmost',\n",
              " 'crummyassholeidontlikethattheyonlyhadhiminthefirstmoviecillianmurphyishot',\n",
              " 'wishesforgoodoldcartoonstocomebackiecaptainplanetwhereswallydariasad',\n",
              " 'notfeelingvgoodabtmyself',\n",
              " 'ijustgotatextfromsarah',\n",
              " 'anotherdayatcentrepointthistimeanearlystartsoguessingtrainwillberammedwithcommut',\n",
              " 'fourgamesthisfallmodernwarfarehaloodstbrutallegendandbioshockineedmorecash',\n",
              " 'dcastilloughthatsdisconcert',\n",
              " 'devinthedudeactuallythewholesitehasfinallybeentakenoverbythosedamnrussian',\n",
              " 'mytweetsarentgoingthrough',\n",
              " 'justfinishedadeliciousbreakfastmylastinparisillmissmilkeuropehasthetastiestmilkintheworldidontdrinkitinu',\n",
              " 'ilearnisdownandoutgreatconsideringfinalsarethisweek',\n",
              " 'carmoniumimstressedoutttt',\n",
              " 'alsoishouldvebernasleepanhourago',\n",
              " 'tryingtofigureoutthistwitterthingnoneofmyfriendsareonyetsoomuchtose',\n",
              " 'repingingkylecustomiconsimadelookcoolbuttheedgescouldbelesssquaremightlookbadonadiffbackground',\n",
              " 'iwanttobebackinla',\n",
              " 'enterbelladonnaidunnohowtousetheforumandigetfrustratedwithitillmisstalkingtoyouonher',\n",
              " 'lilbucknutsnotanopt',\n",
              " 'georgeruizunfortunatelyoneofthosemomentswasntagiantsquidmonst',\n",
              " 'thestarrageiwantonetooisthebranchinmidvopentoo',\n",
              " 'danannerawsorrytohearthat',\n",
              " 'changeofplansweorderedmacsinsteadtimetohitthebook',\n",
              " 'polhillianyup',\n",
              " 'nkdreamerdidyouseedonniestweetstatsalmostrepliesandnojrk',\n",
              " 'timgraingernahihaventreceivedmystimulusyet',\n",
              " 'ikimbijustseenurtweetplzwritebakifugetthisihavntgotonereplybak',\n",
              " 'mccainblogetteawwwwwandyouweretryingtogotosleephoursago',\n",
              " 'stephenkruiserimsosorrytohearthatitsalwayssadwhenwelosethoseclosetousaswelovedthem',\n",
              " 'cantsleepbutimstillfeelinlikeapieceofshit',\n",
              " 'stephenkruiserohmysympathiesitsaharddecisionialwayshopemyoldbordercolliewillgoinhersleepshestoohug',\n",
              " 'josephheustesswelltherewasthisreallycoolpartwhereiwontspoilit',\n",
              " 'limbeckyimdoingthetimewarpwithoutyouandamsad',\n",
              " 'theresawhitethisistruelolbutitsstillaslapinthefaceaftersuchawarmendofmarch',\n",
              " 'ihateconvertingmoviesjusttoputemonmyitouch',\n",
              " 'grossihaveapimpl',\n",
              " 'torturedladyyeamanaaaaaaaaaaaaaaaaaaaammarwanaccentlol',\n",
              " 'onelessfollowertonight',\n",
              " 'unholyknightsodidyourmomlastnightbrbwhileifigureoutwhetherijustburnedyouormyselfthemost',\n",
              " 'ifeellikeiamtheonlyquottwittererquotnotontweetdeck',\n",
              " 'wyldceltichehaskaratetournamentinweek',\n",
              " 'goingtosleepcantbeupuntilamagainandnoididntfinishmystatisticshomework',\n",
              " 'northcarolinababyaintnothinstoppingthembutthenbadraft',\n",
              " 'cantsleepagain',\n",
              " 'ireaalymissjohnmayerstwittersfuckrudepeopleremovehimifyoudontlikehistweetsbitchfuck',\n",
              " 'isgoingtohavealateoneatmqutoday',\n",
              " 'imsotiredofworkineedalif',\n",
              " 'justleavinworkmyfeethurt',\n",
              " 'playradioplaythatwassosadandunexpecteditotallycriedhaha',\n",
              " 'superneejmorningbahcarwontstartwaitingfortheanwb',\n",
              " 'stilldoingmyhomework',\n",
              " 'alittlesad',\n",
              " 'deepbluesealovemymomampdadbothgetuparoundtooearlyform',\n",
              " 'shouldvebeenasleeptwohoursago',\n",
              " 'stephenkruisersosorrytohearaboutyourdog',\n",
              " 'funnyhowthelittlethingsmakemehomesickcriminalsbreaknnabrownstoneonlawnordcimadememisti',\n",
              " 'djsoulsisteryeahgreatvidihadthequotsinglebutsolditafewyearsago',\n",
              " 'imonvalsmaciniitscclubroomstillsw',\n",
              " 'stephenkruiserawwwsosadimsosorri',\n",
              " 'updatingffethatgivesmenothingtodoforagoodtwentyminut',\n",
              " 'hotcompressnotrilyworkngforpulledmusclegngtobedgoodnight',\n",
              " 'haveaninviteforquothealthydiningquotsessionatashokhoteltodaywithexecchefrchoprabutdamnworkloadwillhavetoskipit',\n",
              " 'stephenkruiserimsosorrytohearaboutyourdogwishingyouhappierdaystocom',\n",
              " 'hellivinaimissemtoo',\n",
              " 'misstoriblackcoolihavenotweetappsformyrazr',\n",
              " 'imofftoobedigottawakeuphellaearlytomorrowmorn',\n",
              " 'stillprocrastinatingihateorganizingmyclothestheresjustsomuch',\n",
              " 'justbeenplayingwiththenewmobblervanditaddssomegreatnewfeaturesbutwontplaymusiconmyelikevdid',\n",
              " 'latronebohbuttheresonebestiemiss',\n",
              " 'esuriospiritustimetocomebacktoflawdafordoubledatesnoseriouslyimsorrytohearthat',\n",
              " 'imupwaytolatetobeworkingforaclientamfb',\n",
              " 'blegghhhhihavetogotowork',\n",
              " 'backatworkjohnmuirdrhttplooptuskoqabg',\n",
              " 'dachesterfrenchiemailedyouyesterdayanduneverrespond',\n",
              " 'itsgoingtobealongyearforasfan',\n",
              " 'justgotdonewatchingthenewhouseepisodedefinitelyoneofthesaddestepisodesev',\n",
              " 'mantaxessuckimhorrifiedthatididsomethingwrongonthemturbotaxdecidedtokeeparoundalotofthestuffiturnedoff',\n",
              " 'sleeptimetomorrowisgonnasuck',\n",
              " 'wtfnotkutnerohimsopissedhouseimeanreallywtf',\n",
              " 'amberpacificiknowidontknowwhyisaidthat',\n",
              " 'cashruleseverythingaroundm',\n",
              " 'justpickedupsomeoatsfromthemarkettoeatforbreakfastwithmyboyadamgoldstonnowtimetodoworkatusclatenight',\n",
              " 'ifeelsicktoomuchicecream',\n",
              " 'faithggthiscomputerdoesnthaveshockwaveblahnoaccountyet',\n",
              " 'rubyroseawwwwishicouldgobutitsinsydney',\n",
              " 'luxuryprgalhahahasuriouslyifeellikeeveryoneknowsthisshowisajokeexceptlc',\n",
              " 'ijustcantspelltodayitotallysuck',\n",
              " 'areyouvaccinatedagainstchickenpoxshouldivaccinatemyyroldiamsoconfusedaboutthisdamnth',\n",
              " 'schoolatleastlastday',\n",
              " 'yawwwngottagetupearlytomorrowwhosreadyfortheweekend',\n",
              " 'imissbeingathomeforcalvingseasonsadthatblackonediedthismorningwishihadsomebottlecalv',\n",
              " 'stephenkruiserisosorryforyourlossmybrotherdogsamissickwcushingsdiseas',\n",
              " 'backtoworkigettospendthenexthoursaloneinthedispatchroom',\n",
              " 'theresanewkindofstarburstfaveredssoundsfabbccherryandstrawberryaremyfavredsbuttheyaddedwatermellonanditsyucki',\n",
              " 'wellsomuchforbeingproductiveonmydaysofffromangel',\n",
              " 'andreabakesohgeeinsomniasuckshaveyoutriedmelatonin',\n",
              " 'vivekggoodtohearthatwehavesupportinnetbeansbutthenitsnetbeansyouknow',\n",
              " 'heidimontagiwishwewouldgetitthesametimeattherestofworldunfornatelyiamincairoandhavetowaitformtvatoplayit',\n",
              " 'heartbrokenoverlittlesandraprayersarewiththefamili',\n",
              " 'hadtobeyouimatwordsitsallcandoillfinishtomorrowmayb',\n",
              " 'shortiethughowcomeurbackgroundcoversthescreenbutmineisinthecorn',\n",
              " 'wroteexactlythreelinesofdialoguetonightthengaveup',\n",
              " 'ashmanmyonlycomplaintaboutfacebookistheyvechangeditsomuchitsconfus',\n",
              " 'slicedmyfing',\n",
              " 'goingthrutownandtrafficonbypassisstink',\n",
              " 'ughcantsleepwishihadagoodcuddletomakemeassout',\n",
              " 'ihatewhensoftwareupdatedownloadsupdateswithouttellingmeineverknowwhatsdownloadingwhen',\n",
              " 'wenttoihopagaingreatforadietatleasttherewerenokungfoopancakesthistimerachel',\n",
              " 'theinternetishatingmenightispos',\n",
              " 'contactabeimsojealousimissedallofopeningdaythisyear',\n",
              " 'itssocruelhavingtowaitforreviewstocomeinsofaritlookslikestartrekwillbethebestfilmoftheyear',\n",
              " 'debatingifishouldjustshowernowsoicansleepalittlelatertomorrow',\n",
              " 'mystressalwaysculminateswithphysicalpain',\n",
              " 'needtosleepbutc',\n",
              " 'mylittlepinkyfingerhurtssomuch',\n",
              " 'sarahsaturdayimsorryyourgiftcardranoutthatsuck',\n",
              " 'homeforspringbreaknooneishometho',\n",
              " 'iaccessedoneindiamobifromagooglephoneandroiditdoesntsupportindiclanguag',\n",
              " 'whydoesschooltakeoveryourlifesomuchyoudontgetsleepanymoreiamstilldoingschoolworkandhavemoretodoaswel',\n",
              " 'mtsiaklidesawiwishicouldicantreallyspeaktomyyiayiabecauseshedoesntspeakenglish',\n",
              " 'winggatonofreecomplol',\n",
              " 'gettingreadytocleanthehousefromtoptobottom',\n",
              " 'cryingmyfriendismovingawaytomorrow',\n",
              " 'swiftkaratechopstopnomnomsyoudidntsharenightpeopl',\n",
              " 'thinkssheisgettingacoldthatshecaughtfromdaddyohnomytripwouldberuin',\n",
              " 'moonyyeahisitbcozkalpennisavisitinglecturersomewherencantbeontheshowanymoreimgonnamisshim',\n",
              " 'sotheprocrastinationstartsearlyinthequarteridontwanttoreaaaaadandwriteapap',\n",
              " 'whatapparentlyitsdegressatpminwashingtonstateimisswinteralreadi',\n",
              " 'beingboredathome',\n",
              " 'massagewasgreatijustspilledcokeallovermydesklamewatchingthesimpsonsasivefinishedallmyhillsdvd',\n",
              " 'nickcarteriwillwaitforyouatfanclubchateventoughyourenotmyfavorit',\n",
              " 'hasamildleftinnerearinfectionanditsgotthisirritatingquotblockedquotfeelingsincesunday',\n",
              " 'janebodehouseheytherenopemycutenesshoytfortenberryisawayforawhil',\n",
              " 'itsonlytuesday',\n",
              " 'hahanotevenyoijustdidntknowhowtodothatthangtoyouontwitterhaha',\n",
              " 'someonesalarmclockoraphonewokemeupatamstillgotmyheadachefromyesterdaynight',\n",
              " 'kalichosichawwwpoorpuppyissheok',\n",
              " 'imightbreakdownandeatsomebuffalowingstomorrow',\n",
              " 'sittinherewkaylaireallyreallyrealllydislikehavingabrotherhedoesntknowwhentostopimwaitingforthedaywhenoneof',\n",
              " 'fedbokkietoomanybirthdaytreatssicko',\n",
              " 'skindabummedanagencyjusttoldmethatididnthavethelookthattheyweregoingforladiespleasehelpmecreatethelook',\n",
              " 'worklaptopisofficiallydeadnothappyatal',\n",
              " 'mygoodnessitsfreezingdownher',\n",
              " 'heidimontagwhydoyouputupwithhimyoushouldlistentoyourmom',\n",
              " 'isstuckedinparisandcanteventravelintofranceforwork',\n",
              " 'joannafbeckettidontthinktheresoneclosebylasttimeicheckedtheclosestonewasmilesaway',\n",
              " 'aaaaandbacktomyliteraturereviewatleastihaveafriendlycupofcoffeetokeepmecompani',\n",
              " 'iamworriedthatiwontgetmyeventhoughipaidabuttloadoftaxlastyear',\n",
              " 'okaysostillnoschool',\n",
              " 'isphonelessnowofftoosleep',\n",
              " 'reekedofalcoholatthedentistthismorningwasdrunkwheniputonmytshirtrealisedithadahugestaindentistlookeddisgust',\n",
              " 'itisreallycold',\n",
              " 'cantsleepshewantstodream',\n",
              " 'cantsleepihatethesenightswhenitrytogotobedearlyandstayawakeforhourspoo',\n",
              " 'rootbeersoupyeahtoobadpeoplelikeacertainburritoeatingmanexist',\n",
              " 'cronotriggersthatssad',\n",
              " 'justfoundoutthatmymumandmyadoptedauntieareontwittercheckthemoutmymumistessmandmyawesomeasauntieistania',\n",
              " 'cannotsleepwideawakeandigottagotoworklatertooboyamigoingtohaveacrappyday',\n",
              " 'strugglingwitheamlaw',\n",
              " 'whycantisleeplikeherhttptwitpiccomyti',\n",
              " 'boutstostartpoorlinnycouldntkeephereyesopenshetiredandhastoworktomorrowmorningnightilovefatsusan',\n",
              " 'myyearoldyearoldisdrivingmearoundthetwistidontwanttobelikethi',\n",
              " 'wellthatsuck',\n",
              " 'ihavetobeoutofmyplaceindaysanyhelpicangetpackingpaintingcleaningismuchappreciatedohandripmywal',\n",
              " 'openingapartiallyfrozenbeerbeeronthetoasterundertheovenandalloverthecounterthekitchensmellslikewerunaspeakeasi',\n",
              " 'stewiebrittanynoidontevenknowhowtorideit',\n",
              " 'monasmithsadlyyesithinkineedcouncilingnow',\n",
              " 'makingmyselfreadyforschooldontfeellikegoingbuthavetwotest',\n",
              " 'smugnessgonemytrainalsofailedtoturnupsoimheadingforvictoriafollowedbyanunpleasanttuberidetothec',\n",
              " 'anybodyknowwheremyipodw',\n",
              " 'awwthisearthquakeinitalyhasmademesadjustsawthepicsonthenewsitsterr',\n",
              " 'lilibatneverbeenabletoaffordtogetthemoutidmuchrathergothroughtheextractionthancontinuewithwhatidealwithnow',\n",
              " 'whydootherpetcarepeopletrytorunothersoutofbusinessorsendsuspiciousemailsfishingforinfo',\n",
              " 'kameelahwritesltcodeztheyvebeenmiatho',\n",
              " 'reannaremickdoesntworkonmycellgotosleepp',\n",
              " 'itsgoingtobeniceagaintomorrowandthentheraincomesbacknoniceweatherformybirthday',\n",
              " 'taliasunsetrockbandishardonexpert',\n",
              " 'beachbassboneroomiewashomealldayallhehadtodowasscratchatthedoorcomforterhastogotolargelaundromatmachin',\n",
              " 'oneofthehardestthingwiththisschedulenooneicanchatwithattheendofmydayusu',\n",
              " 'theykilledoffacharacterononeofmyfavoriteshowsandnowimupset',\n",
              " 'jealousofmyfriendswhogottoseethenewstartrekfilminaustintonight',\n",
              " 'listeningtoqigotareallybadheadacheandadrivinlessonintenminsluckymeijustwanasleeep',\n",
              " 'stevebuscemishutupyouiamhungryandinbritainhomeofthemostboringsuckassybreakfastintheworldimissdenni',\n",
              " 'goodmorningeverybodypkoiyfaispasbeauboncoffeetim',\n",
              " 'workagain',\n",
              " 'essaytim',\n",
              " 'chaunceyheydidutalktomomrtheyhomeyetihopetheyrokwishiwascominghomeeast',\n",
              " 'endearingevaniaisurewishicouldgowithyouguystmrwbutasperusualschoolinterfer',\n",
              " 'widyatarinasaywhatkalpennsleavinghousenooooooawwwitotallymissedittonight',\n",
              " 'noilostaloy',\n",
              " 'playedanotherhandverybadandlosthalfmystack',\n",
              " 'itspmearlydaysinalooooooongnightatwork',\n",
              " 'yaykimoitssaditsthelastseasoniwannaseewhenspencercallslauren',\n",
              " 'soimdoneeditingquotthephipstapequotbackcrackabrewandseewhatwegotnotreesthough',\n",
              " 'rjidontknowwhathalfofthatmean',\n",
              " 'homeworkhomeworkhomework',\n",
              " 'workedhisheartouttodaydoublingmyweightateachstationresultstiffandpulledmusclesouch',\n",
              " 'melamachinkonowifeelbadforunfollow',\n",
              " 'sotiredgodihatethenewjobandonlytwodaysin',\n",
              " 'sadaboutkutnerbeingkilledoffmyfavshowhous',\n",
              " 'happyforcoachstringerhofconowificanonlyfinishmytermpaperonh',\n",
              " 'ifeellikeshitthisisnotthewayiwanttospendmybirthdaysev',\n",
              " 'sofarihaveonallmysitesputtogethermostofthemweremecheckingouttheupdatesimad',\n",
              " 'hasalotonhermindineedstomakesomemoneysandideasnowhereishir',\n",
              " 'emiliexclarkexmissy',\n",
              " 'stephenkruiserimsosorrytohearaboutyourdog',\n",
              " 'toomuchinternethowitplaguesm',\n",
              " 'imissmyexsoomuch',\n",
              " 'soddingmhttptwitpiccomyy',\n",
              " 'ohithoughtthepiratebaytrialverdictwastodaysapparentlyitsinday',\n",
              " 'featherinaircallmeback',\n",
              " 'isinstudyhallnowandiwilllogoffimmediatelyhttpplurkcompmzxbg',\n",
              " 'itsotiredthatimcryingfornoreasonatallimabouttotrytogetanhourandahalfinfortonighthalfwhatigotlastnight',\n",
              " 'itotallyhavelikefourgirloptionsandnoneofthemseemvi',\n",
              " 'sofarihaveveiwsonallmysitesputtogethermostofthemweremecheckingouttheupdatesimad',\n",
              " 'listeningtobjorksallisfulloflovecri',\n",
              " 'omgthehillsthenilovemoneyawwithinkbeckybuckwildgo',\n",
              " 'iscravingforsometantannabehttpplurkcompmzxc',\n",
              " 'cmonseanman',\n",
              " 'watchingquotaleagueoftheirownquotmakesmemissmintchocolateicecreamconesandmygrandmafuck',\n",
              " 'lostmyphonesomewheremaybeinthegrassitsjustsolonghopeitdoesntrain',\n",
              " 'tomatosalsahopeyouarentreferringtomesayhellotoyournewstalkerlol',\n",
              " 'brettyboowhywereusleepingurgonnabeupallnightnowhowwasurbikerid',\n",
              " 'slessardbutbutbutiwannalistentothemasterstoo',\n",
              " 'sephystryxivebeenlookingaboutforgoodstufftowritebutalsobeendoingloadsofuniwork',\n",
              " 'ifeelunloveddroppedtweet',\n",
              " 'offtolondonforthedayonthursdayitsgonnaberainingohfabwontseemuchonthelondoneyestillrobbiewontcareblesshim',\n",
              " 'completelywipedandreloadedthelostallbbmcontactsgoingtobedsad',\n",
              " 'mykelesayyyywhaaaaiwasntinvit',\n",
              " 'didntsleeptoobadconsideringihaveaworkshopstartingtodaybeginningsofasorethroatthough',\n",
              " 'astewartohmygoshthatmademeemotionalhahaidkwhyidontwanttogetold',\n",
              " 'weregoingtopostsomestoriesmanuallyduetotwitterfeedproblemthatswhywevebeensoquietl',\n",
              " 'idontlikelukewarmshow',\n",
              " 'linuxfoundationwhoshouldicontactifineedaforfreelanceworkididonlinuxcomthroughoutnevergoton',\n",
              " 'skylinekingconnoritsmefebiareyoureallyreallymadatm',\n",
              " 'needsomehelpwanttobuyamacbookprobutstillinlovewithmyoldpowerbook',\n",
              " 'michaeltaomanamericaissoborezanywaylolijustrealizedyousentmemsgsonhereihadnoideaihavenoflash',\n",
              " 'hellivinaihopnessgknightlovelyladiesimsleepynow',\n",
              " 'doesanybodyknowhowtogetyourelectrolytesbackinorderwithavitaminworkifeelsick',\n",
              " 'sudamyessomeonehasntbeenreadingmypostsproperli',\n",
              " 'almostthroughwithmyitalianhomeworkweeeeeenowifionlyunderstoodwhatiwasdo',\n",
              " 'whoturnedthelightsonitwillbetimetogetipthen',\n",
              " 'therealnphtwitterhatesusboththen',\n",
              " 'ihatethefactthatimgenuinelyexcitedaboutmylasttweet',\n",
              " 'celesteclaraicantsleepeith',\n",
              " 'theblondetheorybetweenthatandtheitalyearthquakeitsbeenaverysadnewsday',\n",
              " 'champagnemanoirallraintodaygardenreallyneedsitsonotquitesobad',\n",
              " 'yawnyawnyawnmoreminutesinb',\n",
              " 'majesticflameouchsoundsverysucki',\n",
              " 'bengottliebgreatideawiththeitunespromocodestheydontworkintheukitunesstorethough',\n",
              " 'mattycuscri',\n",
              " 'rumloveranemptyrumbarrelisasadrumbarrelshakesheadthehorrorthehorror',\n",
              " 'itwasasleeplessnight',\n",
              " 'billybushsheadmittedtobeingafak',\n",
              " 'batmannnilovechutney',\n",
              " 'gothighlyboredtodayscanningpagesfordaddyhadtodoit',\n",
              " 'misterphippsyoucookedrisottowithoutm',\n",
              " 'keeeerrrrriiiiiiireallyhavenothingbettertodothenpostonthisthingatamwonderfullllsaysalot',\n",
              " 'yayforbaseballseasonbootoyankeeslosingtheirfirstgam',\n",
              " 'lostsucksbecauseihavetoworktoday',\n",
              " 'omgexamskilledmehowcouldinotknowthedifferencebetweenhaifacircleandahemisphereltgt',\n",
              " 'inbedisuddenlyfeeliwishmawasherewmegoodnighttwitterfam',\n",
              " 'rachelcmrnidontlikegoodnight',\n",
              " 'greaaatmylappywontturnonwtffffff',\n",
              " 'mrkmyoustuckintrafficthenmyjourneywastrafficfreethismorningifitsanyhelp',\n",
              " 'lookinlikeanallnighterihateitwhenidothistomyself',\n",
              " 'vernonhamiltonyoureastrang',\n",
              " 'debbuggingoldvbcodethedaycouldhavestartedbett',\n",
              " 'toddlingtononlyaquarterofapercentbabedarn',\n",
              " 'comingdownwithacoldorbadallergieseitherwayimmiser',\n",
              " 'cantbelievecutnerisdeadonhousesaddayinsantarosacahttplooptusorpla',\n",
              " 'damnitiwasreallydiggingthisseasonofreaperhttpwwwtvcomstoryhtmlrefstoryidampreftypeamprefnamestori',\n",
              " 'gahcomcastdoubledourcableinternetbillwouttellingussowearequittingcananyonesuggestanaffordablecompanyinbayarea',\n",
              " 'anotherearlymornwiththeduchessalthoughshehadntmanagedtocrossherlegsthistim',\n",
              " 'alexbigmanyouleftwithoutsayinghi',\n",
              " 'lwantbuticantsleep',\n",
              " 'tracydowdswhenanxboxshowsthosethreeredlightsitmeansitsdeadandneedstobefixedforamonthatmicrosofthq',\n",
              " 'akingsizedbedisnicebutsadandlonelywithnohubbypuppyorkittyiamoverthiswholeconferenceingth',\n",
              " 'imboreddgahiwishicouldjustsleepandgetitoverwithbutivehadtoooomuchhcooooffffeeeeeeeeebahaha',\n",
              " 'whyinthehellifimaybuttinagainimdonebeingnoseysorryyourconversationwasjustsointerest',\n",
              " 'smokeyrobinsonyoufelloffmylistdidioffendy',\n",
              " 'weekstillsistershomeimissedhercallagainitstheworstfeelingintheworld',\n",
              " 'gonnatrytogetsomesleepinthishotelroom',\n",
              " 'chimpytwitbrilliantideajustbringasmuchasyouthinkyoullspendampillswapyoubringabrolli',\n",
              " 'simonekaligetmeanautographandshoutoutyouhavetorecorditthoughmycomputerisdeadsoicantlisten',\n",
              " 'rtkimkardashiankhloejustgotfiredfromtheapprentic',\n",
              " 'inbiologyclassmyliphurt',\n",
              " 'sorryforthenexttweet',\n",
              " 'grrnotdowntogotoschooltoday',\n",
              " 'jennlopezihadtogetanhdtivoandjustgotitsetuptonightinordertogetchannel',\n",
              " 'mouthsexiaskedeveryonehowtheyweredoingyesterdayandnotasingletweetback',\n",
              " 'adameruddymoneyilikeitstillwaitinghereohwhatasurprisebystatetoohmmmseri',\n",
              " 'kalpenniamsosadkutnerwasmyfavoriteofthenewteam',\n",
              " 'marcusmimswowididntgetanquothelloquotusuck',\n",
              " 'bedtimeschooltomorrowandistillhavenobooksbeingbrokesuckssss',\n",
              " 'seatingherehelpingmybabywithhispaperswellheisforcingmetooseatwithhimimsleepi',\n",
              " 'synchingmycontactsfrommyoldmobiletoiphoneimportdoesnotworkwel',\n",
              " 'icantconcentr',\n",
              " 'ivejustspenthourtoenterallthebureaucraticnonsenseformarchwhatawasteofmytim',\n",
              " 'nwmoreconfusedthenev',\n",
              " 'notfeelingwellagainstupidmigrainemakingmytummyupsetandmywholebodyachesshootmenow',\n",
              " 'readingbuyologybeforebedtimegreatpremisebutonlyturningouttobeanquotokquotbooklotsofinfoialreadyknew',\n",
              " 'homeireallywanasleepbutduetowastingmyfreelineintownihaveanassignmenttofinish',\n",
              " 'hellobebeialsosendsomeupdatesinplurkbutiuploadphotosontwitteryoudidntseeanyofmyupdatesonplurkzero',\n",
              " 'omgquotthereaderquotismakingm',\n",
              " 'cloudpimpsdohatleastyouregettingadecentexchangerateatthemomentsterlingisstillgettingflog',\n",
              " 'triedtodownloadtweetdeckbutitwontdownload',\n",
              " 'theresaninchofsnowonthegroundandcountingimworriedaboutthepoorflow',\n",
              " 'dweemanwhyarentyouahappycamp',\n",
              " 'dkoenigsthanksmanimsoverygratefulifeelunworthyofsuchattentionthoughbecauseiminthisbecauseofmyself',\n",
              " 'twolfeimissutooimtotallycominbacktholastnightwassooooooomuchfun',\n",
              " 'sniffinglueohhhiloveitpsimsadwedidntgettohangout',\n",
              " 'andsomehowistillendupinthisplac',\n",
              " 'kisluvkisohthatisverysadpoorboy',\n",
              " 'jonathanrknightsilvertulipumthatwouldbeahellnotothefuglypokerdogpantsonthecruisehijonathansorryimissedy',\n",
              " 'imdoingmyhomeworkitsgoshdarnhard',\n",
              " 'definitelynovacationformehttpplurkcompmzygb',\n",
              " 'studygroupextraordinareabouttoleavecampussomeoftortsoutlinefinishedgoodthingbutsleepyashwillbebackam',\n",
              " ...]"
            ]
          },
          "metadata": {},
          "execution_count": 7
        }
      ]
    },
    {
      "cell_type": "markdown",
      "source": [
        "Applying Bag of words"
      ],
      "metadata": {
        "id": "S6bmGNnVvHuX"
      }
    },
    {
      "cell_type": "code",
      "source": [
        "cv= CountVectorizer()"
      ],
      "metadata": {
        "id": "Opp9ut80vN4O"
      },
      "execution_count": 8,
      "outputs": []
    },
    {
      "cell_type": "code",
      "source": [
        "# x=cv.fit_transform(corpus).toarray()"
      ],
      "metadata": {
        "id": "iqYAnEsHwK60"
      },
      "execution_count": 9,
      "outputs": []
    },
    {
      "cell_type": "markdown",
      "source": [
        "Applying TF-IDF"
      ],
      "metadata": {
        "id": "Z275aTle0cjW"
      }
    },
    {
      "cell_type": "code",
      "source": [
        "cv = TfidfVectorizer()\n",
        "x = cv.fit_transform(corpus).toarray()"
      ],
      "metadata": {
        "id": "P7TGtk3G0euw"
      },
      "execution_count": 10,
      "outputs": []
    },
    {
      "cell_type": "markdown",
      "source": [
        "Creating ML Algorithm"
      ],
      "metadata": {
        "id": "DCrn4FU31xMC"
      }
    },
    {
      "cell_type": "code",
      "source": [
        "cv = CountVectorizer(max_features=2500)\n",
        "x = cv.fit_transform(corpus).toarray()"
      ],
      "metadata": {
        "id": "ESDJ37Y11uV2"
      },
      "execution_count": 11,
      "outputs": []
    },
    {
      "cell_type": "code",
      "source": [
        "x.shape"
      ],
      "metadata": {
        "id": "0fZfYAvM2jlF",
        "colab": {
          "base_uri": "https://localhost:8080/"
        },
        "outputId": "2679bffe-d00f-486c-cd99-773f580dccb3"
      },
      "execution_count": 12,
      "outputs": [
        {
          "output_type": "execute_result",
          "data": {
            "text/plain": [
              "(158799, 2500)"
            ]
          },
          "metadata": {},
          "execution_count": 12
        }
      ]
    },
    {
      "cell_type": "code",
      "source": [
        "x[0]"
      ],
      "metadata": {
        "id": "1XioDvYv2m3l",
        "colab": {
          "base_uri": "https://localhost:8080/"
        },
        "outputId": "eddca48d-d870-4cb9-a5e8-f0634df79d7a"
      },
      "execution_count": 13,
      "outputs": [
        {
          "output_type": "execute_result",
          "data": {
            "text/plain": [
              "array([0, 0, 0, ..., 0, 0, 0])"
            ]
          },
          "metadata": {},
          "execution_count": 13
        }
      ]
    },
    {
      "cell_type": "code",
      "source": [
        "y = pd.get_dummies(df['polarity of tweet'])"
      ],
      "metadata": {
        "id": "Ii36rD3u2xt3"
      },
      "execution_count": 14,
      "outputs": []
    },
    {
      "cell_type": "code",
      "source": [
        "y.shape"
      ],
      "metadata": {
        "id": "vB46m-zfBCK0",
        "colab": {
          "base_uri": "https://localhost:8080/"
        },
        "outputId": "5b80507f-7477-4fcc-f496-7a654bab6d76"
      },
      "execution_count": 15,
      "outputs": [
        {
          "output_type": "execute_result",
          "data": {
            "text/plain": [
              "(158799, 3)"
            ]
          },
          "metadata": {},
          "execution_count": 15
        }
      ]
    },
    {
      "cell_type": "markdown",
      "source": [
        "Applying the data into Machine Learning Algorithm for prediciton"
      ],
      "metadata": {
        "id": "Jq1EB4Rh4NXi"
      }
    },
    {
      "cell_type": "code",
      "source": [
        "x_train,x_test,y_train,y_test = train_test_split(x,y,test_size=0.2,random_state=0)"
      ],
      "metadata": {
        "id": "4UBC9mZd4Lac"
      },
      "execution_count": 16,
      "outputs": []
    },
    {
      "cell_type": "code",
      "source": [
        "s_n = MultinomialNB()"
      ],
      "metadata": {
        "id": "TR7cHYhZ5cp7"
      },
      "execution_count": 17,
      "outputs": []
    },
    {
      "cell_type": "code",
      "source": [
        "type(y_train)"
      ],
      "metadata": {
        "id": "z5Fp_1mLDJ7R",
        "colab": {
          "base_uri": "https://localhost:8080/",
          "height": 203
        },
        "outputId": "058d44c3-a33c-407c-a523-2fb181ec396f"
      },
      "execution_count": 18,
      "outputs": [
        {
          "output_type": "execute_result",
          "data": {
            "text/plain": [
              "pandas.core.frame.DataFrame"
            ],
            "text/html": [
              "<div style=\"max-width:800px; border: 1px solid var(--colab-border-color);\"><style>\n",
              "      pre.function-repr-contents {\n",
              "        overflow-x: auto;\n",
              "        padding: 8px 12px;\n",
              "        max-height: 500px;\n",
              "      }\n",
              "\n",
              "      pre.function-repr-contents.function-repr-contents-collapsed {\n",
              "        cursor: pointer;\n",
              "        max-height: 100px;\n",
              "      }\n",
              "    </style>\n",
              "    <pre style=\"white-space: initial; background:\n",
              "         var(--colab-secondary-surface-color); padding: 8px 12px;\n",
              "         border-bottom: 1px solid var(--colab-border-color);\"><b>pandas.core.frame.DataFrame</b><br/>def __init__(data=None, index: Axes | None=None, columns: Axes | None=None, dtype: Dtype | None=None, copy: bool | None=None) -&gt; None</pre><pre class=\"function-repr-contents function-repr-contents-collapsed\" style=\"\"><a class=\"filepath\" style=\"display:none\" href=\"#\">/usr/local/lib/python3.10/dist-packages/pandas/core/frame.py</a>Two-dimensional, size-mutable, potentially heterogeneous tabular data.\n",
              "\n",
              "Data structure also contains labeled axes (rows and columns).\n",
              "Arithmetic operations align on both row and column labels. Can be\n",
              "thought of as a dict-like container for Series objects. The primary\n",
              "pandas data structure.\n",
              "\n",
              "Parameters\n",
              "----------\n",
              "data : ndarray (structured or homogeneous), Iterable, dict, or DataFrame\n",
              "    Dict can contain Series, arrays, constants, dataclass or list-like objects. If\n",
              "    data is a dict, column order follows insertion-order. If a dict contains Series\n",
              "    which have an index defined, it is aligned by its index. This alignment also\n",
              "    occurs if data is a Series or a DataFrame itself. Alignment is done on\n",
              "    Series/DataFrame inputs.\n",
              "\n",
              "    If data is a list of dicts, column order follows insertion-order.\n",
              "\n",
              "index : Index or array-like\n",
              "    Index to use for resulting frame. Will default to RangeIndex if\n",
              "    no indexing information part of input data and no index provided.\n",
              "columns : Index or array-like\n",
              "    Column labels to use for resulting frame when data does not have them,\n",
              "    defaulting to RangeIndex(0, 1, 2, ..., n). If data contains column labels,\n",
              "    will perform column selection instead.\n",
              "dtype : dtype, default None\n",
              "    Data type to force. Only a single dtype is allowed. If None, infer.\n",
              "copy : bool or None, default None\n",
              "    Copy data from inputs.\n",
              "    For dict data, the default of None behaves like ``copy=True``.  For DataFrame\n",
              "    or 2d ndarray input, the default of None behaves like ``copy=False``.\n",
              "    If data is a dict containing one or more Series (possibly of different dtypes),\n",
              "    ``copy=False`` will ensure that these inputs are not copied.\n",
              "\n",
              "    .. versionchanged:: 1.3.0\n",
              "\n",
              "See Also\n",
              "--------\n",
              "DataFrame.from_records : Constructor from tuples, also record arrays.\n",
              "DataFrame.from_dict : From dicts of Series, arrays, or dicts.\n",
              "read_csv : Read a comma-separated values (csv) file into DataFrame.\n",
              "read_table : Read general delimited file into DataFrame.\n",
              "read_clipboard : Read text from clipboard into DataFrame.\n",
              "\n",
              "Notes\n",
              "-----\n",
              "Please reference the :ref:`User Guide &lt;basics.dataframe&gt;` for more information.\n",
              "\n",
              "Examples\n",
              "--------\n",
              "Constructing DataFrame from a dictionary.\n",
              "\n",
              "&gt;&gt;&gt; d = {&#x27;col1&#x27;: [1, 2], &#x27;col2&#x27;: [3, 4]}\n",
              "&gt;&gt;&gt; df = pd.DataFrame(data=d)\n",
              "&gt;&gt;&gt; df\n",
              "   col1  col2\n",
              "0     1     3\n",
              "1     2     4\n",
              "\n",
              "Notice that the inferred dtype is int64.\n",
              "\n",
              "&gt;&gt;&gt; df.dtypes\n",
              "col1    int64\n",
              "col2    int64\n",
              "dtype: object\n",
              "\n",
              "To enforce a single dtype:\n",
              "\n",
              "&gt;&gt;&gt; df = pd.DataFrame(data=d, dtype=np.int8)\n",
              "&gt;&gt;&gt; df.dtypes\n",
              "col1    int8\n",
              "col2    int8\n",
              "dtype: object\n",
              "\n",
              "Constructing DataFrame from a dictionary including Series:\n",
              "\n",
              "&gt;&gt;&gt; d = {&#x27;col1&#x27;: [0, 1, 2, 3], &#x27;col2&#x27;: pd.Series([2, 3], index=[2, 3])}\n",
              "&gt;&gt;&gt; pd.DataFrame(data=d, index=[0, 1, 2, 3])\n",
              "   col1  col2\n",
              "0     0   NaN\n",
              "1     1   NaN\n",
              "2     2   2.0\n",
              "3     3   3.0\n",
              "\n",
              "Constructing DataFrame from numpy ndarray:\n",
              "\n",
              "&gt;&gt;&gt; df2 = pd.DataFrame(np.array([[1, 2, 3], [4, 5, 6], [7, 8, 9]]),\n",
              "...                    columns=[&#x27;a&#x27;, &#x27;b&#x27;, &#x27;c&#x27;])\n",
              "&gt;&gt;&gt; df2\n",
              "   a  b  c\n",
              "0  1  2  3\n",
              "1  4  5  6\n",
              "2  7  8  9\n",
              "\n",
              "Constructing DataFrame from a numpy ndarray that has labeled columns:\n",
              "\n",
              "&gt;&gt;&gt; data = np.array([(1, 2, 3), (4, 5, 6), (7, 8, 9)],\n",
              "...                 dtype=[(&quot;a&quot;, &quot;i4&quot;), (&quot;b&quot;, &quot;i4&quot;), (&quot;c&quot;, &quot;i4&quot;)])\n",
              "&gt;&gt;&gt; df3 = pd.DataFrame(data, columns=[&#x27;c&#x27;, &#x27;a&#x27;])\n",
              "...\n",
              "&gt;&gt;&gt; df3\n",
              "   c  a\n",
              "0  3  1\n",
              "1  6  4\n",
              "2  9  7\n",
              "\n",
              "Constructing DataFrame from dataclass:\n",
              "\n",
              "&gt;&gt;&gt; from dataclasses import make_dataclass\n",
              "&gt;&gt;&gt; Point = make_dataclass(&quot;Point&quot;, [(&quot;x&quot;, int), (&quot;y&quot;, int)])\n",
              "&gt;&gt;&gt; pd.DataFrame([Point(0, 0), Point(0, 3), Point(2, 3)])\n",
              "   x  y\n",
              "0  0  0\n",
              "1  0  3\n",
              "2  2  3\n",
              "\n",
              "Constructing DataFrame from Series/DataFrame:\n",
              "\n",
              "&gt;&gt;&gt; ser = pd.Series([1, 2, 3], index=[&quot;a&quot;, &quot;b&quot;, &quot;c&quot;])\n",
              "&gt;&gt;&gt; df = pd.DataFrame(data=ser, index=[&quot;a&quot;, &quot;c&quot;])\n",
              "&gt;&gt;&gt; df\n",
              "   0\n",
              "a  1\n",
              "c  3\n",
              "\n",
              "&gt;&gt;&gt; df1 = pd.DataFrame([1, 2, 3], index=[&quot;a&quot;, &quot;b&quot;, &quot;c&quot;], columns=[&quot;x&quot;])\n",
              "&gt;&gt;&gt; df2 = pd.DataFrame(data=df1, index=[&quot;a&quot;, &quot;c&quot;])\n",
              "&gt;&gt;&gt; df2\n",
              "   x\n",
              "a  1\n",
              "c  3</pre>\n",
              "      <script>\n",
              "      if (google.colab.kernel.accessAllowed && google.colab.files && google.colab.files.view) {\n",
              "        for (const element of document.querySelectorAll('.filepath')) {\n",
              "          element.style.display = 'block'\n",
              "          element.onclick = (event) => {\n",
              "            event.preventDefault();\n",
              "            event.stopPropagation();\n",
              "            google.colab.files.view(element.textContent, 490);\n",
              "          };\n",
              "        }\n",
              "      }\n",
              "      for (const element of document.querySelectorAll('.function-repr-contents')) {\n",
              "        element.onclick = (event) => {\n",
              "          event.preventDefault();\n",
              "          event.stopPropagation();\n",
              "          element.classList.toggle('function-repr-contents-collapsed');\n",
              "        };\n",
              "      }\n",
              "      </script>\n",
              "      </div>"
            ]
          },
          "metadata": {},
          "execution_count": 18
        }
      ]
    },
    {
      "cell_type": "code",
      "source": [
        "print(len(x_train))"
      ],
      "metadata": {
        "id": "ETrn1gWb3Ahc"
      },
      "execution_count": null,
      "outputs": []
    },
    {
      "cell_type": "code",
      "source": [
        "print(len(y_train))"
      ],
      "metadata": {
        "id": "Lo2Sn62E3QgM",
        "colab": {
          "base_uri": "https://localhost:8080/"
        },
        "outputId": "9416c38a-4c02-4251-c057-b9cfce7f8ee6"
      },
      "execution_count": 20,
      "outputs": [
        {
          "output_type": "stream",
          "name": "stdout",
          "text": [
            "127039\n"
          ]
        }
      ]
    },
    {
      "cell_type": "code",
      "source": [
        "#y_train = pd.Series(y_train)\n",
        "y_train = y_train.iloc[0]"
      ],
      "metadata": {
        "id": "pO4ROQmnDSK8"
      },
      "execution_count": 21,
      "outputs": []
    },
    {
      "cell_type": "code",
      "source": [
        "if type(y_train) != np.ndarray or y_train.ndim != 1:\n",
        "    y_train = y_train.values.reshape(-1)"
      ],
      "metadata": {
        "id": "bY5ckwfx3-cG"
      },
      "execution_count": 29,
      "outputs": []
    },
    {
      "cell_type": "code",
      "source": [
        "# Assuming that x_train has more rows than y_train\n",
        "x_train = x_train[:y_train.shape[0], :]\n",
        "\n",
        "# Reshape y_train to a 2-dimensional array\n",
        "y_train = y_train.reshape(-1, 1)\n",
        "\n",
        "# Assuming that y_train has more rows than x_train\n",
        "y_train = y_train[:x_train.shape[0], :]\n",
        "\n",
        "s_n.fit(x_train, y_train)"
      ],
      "metadata": {
        "id": "5ePZ8QU-DZ4S",
        "colab": {
          "base_uri": "https://localhost:8080/",
          "height": 129
        },
        "outputId": "e2e98442-afc6-4960-b045-dcb879235649"
      },
      "execution_count": 31,
      "outputs": [
        {
          "output_type": "stream",
          "name": "stderr",
          "text": [
            "/usr/local/lib/python3.10/dist-packages/sklearn/utils/validation.py:1143: DataConversionWarning: A column-vector y was passed when a 1d array was expected. Please change the shape of y to (n_samples, ), for example using ravel().\n",
            "  y = column_or_1d(y, warn=True)\n"
          ]
        },
        {
          "output_type": "execute_result",
          "data": {
            "text/plain": [
              "MultinomialNB()"
            ],
            "text/html": [
              "<style>#sk-container-id-1 {color: black;background-color: white;}#sk-container-id-1 pre{padding: 0;}#sk-container-id-1 div.sk-toggleable {background-color: white;}#sk-container-id-1 label.sk-toggleable__label {cursor: pointer;display: block;width: 100%;margin-bottom: 0;padding: 0.3em;box-sizing: border-box;text-align: center;}#sk-container-id-1 label.sk-toggleable__label-arrow:before {content: \"▸\";float: left;margin-right: 0.25em;color: #696969;}#sk-container-id-1 label.sk-toggleable__label-arrow:hover:before {color: black;}#sk-container-id-1 div.sk-estimator:hover label.sk-toggleable__label-arrow:before {color: black;}#sk-container-id-1 div.sk-toggleable__content {max-height: 0;max-width: 0;overflow: hidden;text-align: left;background-color: #f0f8ff;}#sk-container-id-1 div.sk-toggleable__content pre {margin: 0.2em;color: black;border-radius: 0.25em;background-color: #f0f8ff;}#sk-container-id-1 input.sk-toggleable__control:checked~div.sk-toggleable__content {max-height: 200px;max-width: 100%;overflow: auto;}#sk-container-id-1 input.sk-toggleable__control:checked~label.sk-toggleable__label-arrow:before {content: \"▾\";}#sk-container-id-1 div.sk-estimator input.sk-toggleable__control:checked~label.sk-toggleable__label {background-color: #d4ebff;}#sk-container-id-1 div.sk-label input.sk-toggleable__control:checked~label.sk-toggleable__label {background-color: #d4ebff;}#sk-container-id-1 input.sk-hidden--visually {border: 0;clip: rect(1px 1px 1px 1px);clip: rect(1px, 1px, 1px, 1px);height: 1px;margin: -1px;overflow: hidden;padding: 0;position: absolute;width: 1px;}#sk-container-id-1 div.sk-estimator {font-family: monospace;background-color: #f0f8ff;border: 1px dotted black;border-radius: 0.25em;box-sizing: border-box;margin-bottom: 0.5em;}#sk-container-id-1 div.sk-estimator:hover {background-color: #d4ebff;}#sk-container-id-1 div.sk-parallel-item::after {content: \"\";width: 100%;border-bottom: 1px solid gray;flex-grow: 1;}#sk-container-id-1 div.sk-label:hover label.sk-toggleable__label {background-color: #d4ebff;}#sk-container-id-1 div.sk-serial::before {content: \"\";position: absolute;border-left: 1px solid gray;box-sizing: border-box;top: 0;bottom: 0;left: 50%;z-index: 0;}#sk-container-id-1 div.sk-serial {display: flex;flex-direction: column;align-items: center;background-color: white;padding-right: 0.2em;padding-left: 0.2em;position: relative;}#sk-container-id-1 div.sk-item {position: relative;z-index: 1;}#sk-container-id-1 div.sk-parallel {display: flex;align-items: stretch;justify-content: center;background-color: white;position: relative;}#sk-container-id-1 div.sk-item::before, #sk-container-id-1 div.sk-parallel-item::before {content: \"\";position: absolute;border-left: 1px solid gray;box-sizing: border-box;top: 0;bottom: 0;left: 50%;z-index: -1;}#sk-container-id-1 div.sk-parallel-item {display: flex;flex-direction: column;z-index: 1;position: relative;background-color: white;}#sk-container-id-1 div.sk-parallel-item:first-child::after {align-self: flex-end;width: 50%;}#sk-container-id-1 div.sk-parallel-item:last-child::after {align-self: flex-start;width: 50%;}#sk-container-id-1 div.sk-parallel-item:only-child::after {width: 0;}#sk-container-id-1 div.sk-dashed-wrapped {border: 1px dashed gray;margin: 0 0.4em 0.5em 0.4em;box-sizing: border-box;padding-bottom: 0.4em;background-color: white;}#sk-container-id-1 div.sk-label label {font-family: monospace;font-weight: bold;display: inline-block;line-height: 1.2em;}#sk-container-id-1 div.sk-label-container {text-align: center;}#sk-container-id-1 div.sk-container {/* jupyter's `normalize.less` sets `[hidden] { display: none; }` but bootstrap.min.css set `[hidden] { display: none !important; }` so we also need the `!important` here to be able to override the default hidden behavior on the sphinx rendered scikit-learn.org. See: https://github.com/scikit-learn/scikit-learn/issues/21755 */display: inline-block !important;position: relative;}#sk-container-id-1 div.sk-text-repr-fallback {display: none;}</style><div id=\"sk-container-id-1\" class=\"sk-top-container\"><div class=\"sk-text-repr-fallback\"><pre>MultinomialNB()</pre><b>In a Jupyter environment, please rerun this cell to show the HTML representation or trust the notebook. <br />On GitHub, the HTML representation is unable to render, please try loading this page with nbviewer.org.</b></div><div class=\"sk-container\" hidden><div class=\"sk-item\"><div class=\"sk-estimator sk-toggleable\"><input class=\"sk-toggleable__control sk-hidden--visually\" id=\"sk-estimator-id-1\" type=\"checkbox\" checked><label for=\"sk-estimator-id-1\" class=\"sk-toggleable__label sk-toggleable__label-arrow\">MultinomialNB</label><div class=\"sk-toggleable__content\"><pre>MultinomialNB()</pre></div></div></div></div></div>"
            ]
          },
          "metadata": {},
          "execution_count": 31
        }
      ]
    },
    {
      "cell_type": "code",
      "source": [
        "y_pred = s_n.predict(x_test)"
      ],
      "metadata": {
        "id": "HAZxuSEYE9FY"
      },
      "execution_count": 32,
      "outputs": []
    },
    {
      "cell_type": "code",
      "source": [
        "y_pred"
      ],
      "metadata": {
        "id": "vdo--1oDFCWU",
        "colab": {
          "base_uri": "https://localhost:8080/"
        },
        "outputId": "f8802781-4790-414f-ceb6-30941407e071"
      },
      "execution_count": 33,
      "outputs": [
        {
          "output_type": "execute_result",
          "data": {
            "text/plain": [
              "array([False, False, False, ..., False, False, False])"
            ]
          },
          "metadata": {},
          "execution_count": 33
        }
      ]
    },
    {
      "cell_type": "markdown",
      "source": [
        "Predicted data vs actual data"
      ],
      "metadata": {
        "id": "vVWPHiXZFj9y"
      }
    },
    {
      "cell_type": "code",
      "source": [
        "y_test = y_test.apply(lambda x: 1 if x.any() else 0, axis=1)\n",
        "s_n.score(x_test, y_test)"
      ],
      "metadata": {
        "id": "rcmCce7BDjtr",
        "colab": {
          "base_uri": "https://localhost:8080/"
        },
        "outputId": "e747c9dd-3390-4a07-e3f6-06262e94e236"
      },
      "execution_count": 34,
      "outputs": [
        {
          "output_type": "execute_result",
          "data": {
            "text/plain": [
              "0.0"
            ]
          },
          "metadata": {},
          "execution_count": 34
        }
      ]
    },
    {
      "cell_type": "markdown",
      "source": [
        "Predicting the value for X[2]"
      ],
      "metadata": {
        "id": "tzApaDvpFdtj"
      }
    },
    {
      "cell_type": "code",
      "source": [
        "s_n.predict(x[2].reshape(1, -1))"
      ],
      "metadata": {
        "id": "5-8dFc5-EGxn",
        "colab": {
          "base_uri": "https://localhost:8080/"
        },
        "outputId": "98f089a8-d7cc-4a20-91ba-c9f2f63453e4"
      },
      "execution_count": 35,
      "outputs": [
        {
          "output_type": "execute_result",
          "data": {
            "text/plain": [
              "array([False])"
            ]
          },
          "metadata": {},
          "execution_count": 35
        }
      ]
    },
    {
      "cell_type": "code",
      "source": [
        "positive = 0\n",
        "negative = 0\n",
        "neutral = 0\n",
        "\n",
        "for ind in df['polarity of tweet']:\n",
        "  if ind == 0:\n",
        "    negative += 1\n",
        "  elif ind == 2:\n",
        "    neutral += 1\n",
        "  elif ind == 4:\n",
        "    positive += 1"
      ],
      "metadata": {
        "id": "s3dMvtOxZevr"
      },
      "execution_count": 36,
      "outputs": []
    },
    {
      "cell_type": "code",
      "source": [
        "neutral"
      ],
      "metadata": {
        "id": "-QLbYc7CdYcI",
        "colab": {
          "base_uri": "https://localhost:8080/"
        },
        "outputId": "81a068ba-5b73-4652-abea-0a92e57948d8"
      },
      "execution_count": 37,
      "outputs": [
        {
          "output_type": "execute_result",
          "data": {
            "text/plain": [
              "2623"
            ]
          },
          "metadata": {},
          "execution_count": 37
        }
      ]
    },
    {
      "cell_type": "code",
      "source": [
        "negative"
      ],
      "metadata": {
        "id": "xekVm4YbdcV_",
        "colab": {
          "base_uri": "https://localhost:8080/"
        },
        "outputId": "6b49b008-59b2-4e67-c205-29d34f84f1b4"
      },
      "execution_count": 38,
      "outputs": [
        {
          "output_type": "execute_result",
          "data": {
            "text/plain": [
              "146951"
            ]
          },
          "metadata": {},
          "execution_count": 38
        }
      ]
    },
    {
      "cell_type": "code",
      "source": [
        "positive"
      ],
      "metadata": {
        "id": "X4mRv1uydhSK",
        "colab": {
          "base_uri": "https://localhost:8080/"
        },
        "outputId": "7ff4512c-446f-43e7-abab-0e3df5ebb9e5"
      },
      "execution_count": 39,
      "outputs": [
        {
          "output_type": "execute_result",
          "data": {
            "text/plain": [
              "9225"
            ]
          },
          "metadata": {},
          "execution_count": 39
        }
      ]
    },
    {
      "cell_type": "markdown",
      "source": [
        "Define a function to calculate the percentage"
      ],
      "metadata": {
        "id": "wzL_GsL_d6Fs"
      }
    },
    {
      "cell_type": "code",
      "source": [
        "def percentage(part, whole):\n",
        "    return 100 * float(part) / float(whole)\n",
        "positive = percentage(positive,len(df))\n",
        "negative = percentage(negative,len(df))\n",
        "neutral = percentage(neutral,len(df))\n",
        "\n",
        "positive = format(positive,'.2f')\n",
        "negative = format(negative,'.2f')\n",
        "neutral = format(neutral,'.2f')"
      ],
      "metadata": {
        "id": "-IY8XpPId9pg"
      },
      "execution_count": 40,
      "outputs": []
    },
    {
      "cell_type": "code",
      "source": [
        "positive"
      ],
      "metadata": {
        "id": "4bosDlr2fJuF",
        "colab": {
          "base_uri": "https://localhost:8080/",
          "height": 36
        },
        "outputId": "05e559e2-1a48-4209-c4d9-58898bbded39"
      },
      "execution_count": 41,
      "outputs": [
        {
          "output_type": "execute_result",
          "data": {
            "text/plain": [
              "'5.81'"
            ],
            "application/vnd.google.colaboratory.intrinsic+json": {
              "type": "string"
            }
          },
          "metadata": {},
          "execution_count": 41
        }
      ]
    },
    {
      "cell_type": "code",
      "source": [
        "negative"
      ],
      "metadata": {
        "id": "CUn2VwyKfNAR",
        "colab": {
          "base_uri": "https://localhost:8080/",
          "height": 36
        },
        "outputId": "c988a002-592c-48f4-f5a6-2f97d1dc7446"
      },
      "execution_count": 42,
      "outputs": [
        {
          "output_type": "execute_result",
          "data": {
            "text/plain": [
              "'92.54'"
            ],
            "application/vnd.google.colaboratory.intrinsic+json": {
              "type": "string"
            }
          },
          "metadata": {},
          "execution_count": 42
        }
      ]
    },
    {
      "cell_type": "code",
      "source": [
        "neutral"
      ],
      "metadata": {
        "id": "N33i7eT9fPoY",
        "colab": {
          "base_uri": "https://localhost:8080/",
          "height": 36
        },
        "outputId": "aebb9cbf-884e-4e2d-b0af-13c99b3f6c30"
      },
      "execution_count": 43,
      "outputs": [
        {
          "output_type": "execute_result",
          "data": {
            "text/plain": [
              "'1.65'"
            ],
            "application/vnd.google.colaboratory.intrinsic+json": {
              "type": "string"
            }
          },
          "metadata": {},
          "execution_count": 43
        }
      ]
    },
    {
      "cell_type": "markdown",
      "source": [
        "Analysis - Graphical representation of Polarity"
      ],
      "metadata": {
        "id": "KCVf8U2adRW3"
      }
    },
    {
      "cell_type": "code",
      "source": [
        "print(\"Reaction of the people on Twitter messages by analyzing \" + str(len(df)) + \" Tweets\\n\")\n",
        "print(\"Polarity = 0 is 'Negative\\n\")\n",
        "print(\"Polarity = 2 is 'Neutral\\n\")\n",
        "print(\"Polarity =40 is 'Positive\\n\")"
      ],
      "metadata": {
        "id": "hsp1jt5GdwE_",
        "colab": {
          "base_uri": "https://localhost:8080/"
        },
        "outputId": "52669b65-ce42-476c-9e1f-5948d6938260"
      },
      "execution_count": 44,
      "outputs": [
        {
          "output_type": "stream",
          "name": "stdout",
          "text": [
            "Reaction of the people on Twitter messages by analyzing 158799 Tweets\n",
            "\n",
            "Polarity = 0 is 'Negative\n",
            "\n",
            "Polarity = 2 is 'Neutral\n",
            "\n",
            "Polarity =40 is 'Positive\n",
            "\n"
          ]
        }
      ]
    },
    {
      "cell_type": "markdown",
      "source": [
        "### **Getting the results of analysis:**"
      ],
      "metadata": {
        "id": "lG-Akte5eyXm"
      }
    },
    {
      "cell_type": "code",
      "source": [
        "Labels = ['Positive [' + str(positive) + '%]',\n",
        "          'Neutral [' + str(neutral) + '%]',\n",
        "          'Negative [' + str(negative) + '%]']\n",
        "\n",
        "sizes = [positive, neutral, negative]\n",
        "colors = ['yellowgreen','gold','red']\n",
        "\n",
        "patches,texts = plt.pie(sizes, colors = colors, startangle=90)\n",
        "plt.legend(Labels, loc='best')\n",
        "plt.title('Sentiment analysis results')\n",
        "plt.axis('equal')\n",
        "plt.tight_layout()\n",
        "plt.show()\n"
      ],
      "metadata": {
        "id": "yeOfDKo8e45B",
        "colab": {
          "base_uri": "https://localhost:8080/",
          "height": 487
        },
        "outputId": "d574f74e-1b9b-4f9b-d1e2-07ec3b683645"
      },
      "execution_count": null,
      "outputs": [
        {
          "output_type": "display_data",
          "data": {
            "text/plain": [
              "<Figure size 640x480 with 1 Axes>"
            ],
            "image/png": "[encoded data removed]"
          },
          "metadata": {}
        }
      ]
    },
    {
      "cell_type": "code",
      "source": [],
      "metadata": {
        "id": "aUvKoEIJewrx"
      },
      "execution_count": null,
      "outputs": []
    },
    {
      "cell_type": "code",
      "source": [],
      "metadata": {
        "id": "cr_swXsbeFS1"
      },
      "execution_count": null,
      "outputs": []
    }
  ]
}